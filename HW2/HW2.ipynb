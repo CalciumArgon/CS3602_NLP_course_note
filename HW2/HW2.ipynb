{
 "cells": [
  {
   "cell_type": "markdown",
   "metadata": {},
   "source": [
    "# 作业二：实现Word2Vec的连续词袋模型\n",
    "姓名：\n",
    "学号："
   ]
  },
  {
   "cell_type": "code",
   "execution_count": 3,
   "metadata": {
    "ExecuteTime": {
     "end_time": "2023-11-05T06:35:38.715014900Z",
     "start_time": "2023-11-05T06:35:35.552612900Z"
    },
    "collapsed": false
   },
   "outputs": [],
   "source": [
    "# !pip install numpy tqdm"
   ]
  },
  {
   "cell_type": "markdown",
   "metadata": {},
   "source": [
    "需要Python版本大于等于3.6，并检查是否已安装所依赖的第三方库。（若没有安装可以执行上面的代码块）"
   ]
  },
  {
   "cell_type": "code",
   "execution_count": 4,
   "metadata": {},
   "outputs": [
    {
     "name": "stdout",
     "output_type": "stream",
     "text": [
      "All libraries are satisfied.\n"
     ]
    }
   ],
   "source": [
    "import importlib\n",
    "import sys\n",
    "\n",
    "assert sys.version_info[0] == 3\n",
    "assert sys.version_info[1] >= 6\n",
    "\n",
    "requirements = [\"numpy\", \"tqdm\"]\n",
    "_OK = True\n",
    "\n",
    "for name in requirements:\n",
    "    try:\n",
    "        importlib.import_module(name)\n",
    "    except ImportError:\n",
    "        print(f\"Require: {name}\")\n",
    "        _OK = False\n",
    "\n",
    "if not _OK:\n",
    "    exit(-1)\n",
    "else:\n",
    "    print(\"All libraries are satisfied.\")\n"
   ]
  },
  {
   "cell_type": "markdown",
   "metadata": {},
   "source": [
    "## 辅助代码\n",
    "\n",
    "该部分包含：用于给句子分词的分词器`tokenizer`、用于构造数据的数据集类`Dataset`和用于构建词表的词表类`Vocab`。\n",
    "\n",
    "> 注: 该部分无需实现。"
   ]
  },
  {
   "cell_type": "markdown",
   "metadata": {},
   "source": [
    "### 分词器\n",
    "\n",
    "该分词器会：\n",
    "1. 将所有字母转为小写；\n",
    "2. 将句子分为连续的字母序列（word）"
   ]
  },
  {
   "cell_type": "code",
   "execution_count": 5,
   "metadata": {},
   "outputs": [
    {
     "name": "stdout",
     "output_type": "stream",
     "text": [
      "['it', 's', 'useful']\n"
     ]
    }
   ],
   "source": [
    "import re\n",
    "from typing import List\n",
    "\n",
    "\n",
    "def tokenizer(line: str) -> List[str]:\n",
    "    line = line.lower()\n",
    "    tokens = list(filter(lambda x: len(x) > 0, re.split(r\"\\W\", line)))\n",
    "    return tokens\n",
    "\n",
    "\n",
    "print(tokenizer(\"It's  useful. \"))\n"
   ]
  },
  {
   "cell_type": "markdown",
   "metadata": {},
   "source": [
    "### 数据集类\n",
    "\n",
    "通过设定窗长`window_size`，该数据集类会读取`corpus`中的行，并解析返回`(context, target)`元组。\n",
    "\n",
    "假如一个句子序列为`a b c d e`，且此时`window_size=2`，`Dataset`会返回：\n",
    "\n",
    "```\n",
    "([b, c], a)\n",
    "([a, c, d], b)\n",
    "([a, b, d, e], c)\n",
    "([b, c, e], d)\n",
    "([c, d], e)\n",
    "```"
   ]
  },
  {
   "cell_type": "code",
   "execution_count": 6,
   "metadata": {},
   "outputs": [],
   "source": [
    "class Dataset:\n",
    "    def __init__(self, corpus: str, window_size: int):\n",
    "        \"\"\"\n",
    "        :param corpus: 语料路径\n",
    "        :param window_size: 窗口长度\n",
    "        \"\"\"\n",
    "        self.corpus = corpus\n",
    "        self.window_size = window_size\n",
    "\n",
    "    def __iter__(self):\n",
    "        with open(self.corpus, encoding=\"utf8\") as f:\n",
    "            for line in f:\n",
    "                tokens = tokenizer(line)\n",
    "                if len(tokens) <= 1:\n",
    "                    continue\n",
    "                for i, target in enumerate(tokens):\n",
    "                    left_context = tokens[max(0, i - self.window_size): i]\n",
    "                    right_context = tokens[i + 1: i + 1 + self.window_size]\n",
    "                    context = left_context + right_context\n",
    "                    yield context, target\n",
    "\n",
    "    def __len__(self):\n",
    "        \"\"\" 统计样本语料中的样本个数 \"\"\"\n",
    "        len_ = getattr(self, \"len_\", None)\n",
    "        if len_ is not None:\n",
    "            return len_\n",
    "\n",
    "        len_ = 0\n",
    "        for _ in iter(self):\n",
    "            len_ += 1\n",
    "\n",
    "        setattr(self, \"len_\", len_)\n",
    "        return len_\n"
   ]
  },
  {
   "cell_type": "code",
   "execution_count": 7,
   "metadata": {},
   "outputs": [
    {
     "name": "stdout",
     "output_type": "stream",
     "text": [
      "50\n",
      "(['want', 'to', 'go'], 'i')\n",
      "(['i', 'to', 'go', 'home'], 'want')\n",
      "(['i', 'want', 'go', 'home'], 'to')\n",
      "(['i', 'want', 'to', 'home'], 'go')\n",
      "(['want', 'to', 'go'], 'home')\n",
      "(['want', 'to', 'play'], 'i')\n",
      "(['i', 'to', 'play'], 'want')\n",
      "(['i', 'want', 'play'], 'to')\n",
      "(['i', 'want', 'to'], 'play')\n",
      "(['like', 'eating'], 'i')\n",
      "(['i', 'eating'], 'like')\n"
     ]
    }
   ],
   "source": [
    "debug_dataset = Dataset(\"./data/debug.txt\", window_size=3)\n",
    "print(len(debug_dataset))\n",
    "\n",
    "for i, pair in enumerate(iter(debug_dataset)):\n",
    "    print(pair)\n",
    "    if i >= 10:\n",
    "        break\n",
    "\n",
    "del debug_dataset"
   ]
  },
  {
   "cell_type": "markdown",
   "metadata": {},
   "source": [
    "### 词表类\n",
    "\n",
    "`Vocab`可以用`token_to_idx`把token(str)映射为索引(int)，也可以用`idx_to_token`找到索引对应的token。\n",
    "\n",
    "实例化`Vocab`有两种方法：\n",
    "1. 读取`corpus`构建词表。\n",
    "2. 通过调用`Vocab.load_vocab`，可以从已训练的中构建`Vocab`实例。"
   ]
  },
  {
   "cell_type": "code",
   "execution_count": 8,
   "metadata": {},
   "outputs": [],
   "source": [
    "import os\n",
    "import warnings\n",
    "from collections import Counter\n",
    "from typing import Dict, Tuple\n",
    "\n",
    "\n",
    "class Vocab:\n",
    "    VOCAB_FILE = \"vocab.txt\"\n",
    "    UNK = \"<unk>\"\n",
    "\n",
    "    def __init__(self, corpus: str = None, max_vocab_size: int = -1):\n",
    "        \"\"\"\n",
    "        :param corpus:         语料文件路径\n",
    "        :param max_vocab_size: 最大词表数量，-1表示不做任何限制\n",
    "        \"\"\"\n",
    "        self._token_to_idx: Dict[str, int] = {}\n",
    "        self.token_freq: List[Tuple[str, int]] = []\n",
    "\n",
    "        if corpus is not None:\n",
    "            self.build_vocab(corpus, max_vocab_size)\n",
    "\n",
    "    def build_vocab(self, corpus: str, max_vocab_size: int = -1):\n",
    "        \"\"\" 统计词频，并保留高频词 \"\"\"\n",
    "        counter = Counter()\n",
    "        with open(corpus, encoding=\"utf8\") as f:\n",
    "            for line in f:\n",
    "                tokens = tokenizer(line)\n",
    "                counter.update(tokens)\n",
    "\n",
    "        print(f\"总Token数: {sum(counter.values())}\")\n",
    "\n",
    "        # 将找到的词按照词频从高到低排序\n",
    "        self.token_freq = [(self.UNK, 1)] + sorted(counter.items(),\n",
    "                                                   key=lambda x: x[1], reverse=True)\n",
    "        if max_vocab_size > 0:\n",
    "            self.token_freq = self.token_freq[:max_vocab_size]\n",
    "\n",
    "        print(f\"词表大小: {len(self.token_freq)}\")\n",
    "\n",
    "        for i, (token, _freq) in enumerate(self.token_freq):\n",
    "            self._token_to_idx[token] = i\n",
    "\n",
    "    def __len__(self):\n",
    "        return len(self.token_freq)\n",
    "\n",
    "    def __contains__(self, token: str):\n",
    "        return token in self._token_to_idx\n",
    "\n",
    "    def token_to_idx(self, token: str, warn: bool = False) -> int:\n",
    "        \"\"\" Map the token to index \"\"\"\n",
    "        token = token.lower()\n",
    "        if token not in self._token_to_idx:\n",
    "            if warn:\n",
    "                warnings.warn(f\"{token} => {self.UNK}\")\n",
    "            token = self.UNK\n",
    "        return self._token_to_idx[token]\n",
    "\n",
    "    def idx_to_token(self, idx: int) -> str:\n",
    "        \"\"\" Map the index to token \"\"\"\n",
    "        assert 0 <= idx < len(self)\n",
    "        return self.token_freq[idx][0]\n",
    "\n",
    "    def save_vocab(self, path: str):\n",
    "        with open(os.path.join(path, self.VOCAB_FILE), \"w\", encoding=\"utf8\") as f:\n",
    "            lines = [f\"{token} {freq}\" for token, freq in self.token_freq]\n",
    "            f.write(\"\\n\".join(lines))\n",
    "\n",
    "    @classmethod\n",
    "    def load_vocab(cls, path: str):\n",
    "        vocab = cls()\n",
    "\n",
    "        with open(os.path.join(path, cls.VOCAB_FILE), encoding=\"utf8\") as f:\n",
    "            lines = f.read().split(\"\\n\")\n",
    "\n",
    "        for i, line in enumerate(lines):\n",
    "            token, freq = line.split()\n",
    "            vocab.token_freq.append((token, int(freq)))\n",
    "            vocab._token_to_idx[token] = i\n",
    "\n",
    "        return vocab\n"
   ]
  },
  {
   "cell_type": "code",
   "execution_count": 9,
   "metadata": {},
   "outputs": [
    {
     "name": "stdout",
     "output_type": "stream",
     "text": [
      "总Token数: 50\n",
      "词表大小: 21\n",
      "[('<unk>', 1), ('want', 6), ('to', 6), ('go', 4), ('i', 3), ('home', 3), ('play', 3), ('like', 3), ('eating', 3), ('he', 3), ('she', 3), ('it', 2), ('is', 2), ('we', 2), ('useful', 1), ('awful', 1), ('can', 1), ('read', 1), ('books', 1), ('will', 1), ('now', 1)]\n"
     ]
    }
   ],
   "source": [
    "debug_vocab = Vocab(\"./data/debug.txt\")\n",
    "print(debug_vocab.token_freq)\n",
    "del debug_vocab\n"
   ]
  },
  {
   "cell_type": "markdown",
   "metadata": {},
   "source": [
    "## Word2Vec实现\n",
    "\n",
    "本节将实现Word2Vec的CBOW模型，为了便于实现，本实验不引入`Hierarchical Softmax`和` Negative Sampling`等加速技巧，若同学们对这些技术感兴趣，可参考：[word2vec Parameter Learning Explained](https://arxiv.org/pdf/1411.2738.pdf)。"
   ]
  },
  {
   "cell_type": "markdown",
   "metadata": {},
   "source": [
    "TODO: 实现one-hot向量构建函数(1分)\n",
    "\n",
    "需求：指定词向量的维度和需要置1的索引，返回类型为`np.ndarray`的one-hot行向量。"
   ]
  },
  {
   "cell_type": "code",
   "execution_count": 10,
   "metadata": {},
   "outputs": [
    {
     "name": "stdout",
     "output_type": "stream",
     "text": [
      "[0. 1. 0. 0.]\n",
      "[1. 0. 0. 0. 0. 0. 0. 0. 0. 0.]\n",
      "[0. 0. 0. 0. 1.]\n"
     ]
    }
   ],
   "source": [
    "import numpy as np\n",
    "\n",
    "\n",
    "def one_hot(dim: int, idx: int) -> np.ndarray:\n",
    "    # TODO: 实现one-hot函数（1分）\n",
    "    zero = np.zeros(dim)\n",
    "    zero[idx] = 1\n",
    "    return zero\n",
    "\n",
    "\n",
    "print(one_hot(4, 1))\n",
    "print(one_hot(10, 0))\n",
    "print(one_hot(5, 4))"
   ]
  },
  {
   "cell_type": "markdown",
   "metadata": {},
   "source": [
    "TODO：实现softmax(2分)\n",
    "\n",
    "> 注意数值溢出的可能"
   ]
  },
  {
   "cell_type": "code",
   "execution_count": 11,
   "metadata": {},
   "outputs": [
    {
     "name": "stdout",
     "output_type": "stream",
     "text": [
      "[7.80134161e-05 2.12062451e-04 5.76445508e-04 1.56694135e-03\n",
      " 4.25938820e-03 1.15782175e-02 3.14728583e-02 8.55520989e-02\n",
      " 2.32554716e-01 6.32149258e-01]\n"
     ]
    },
    {
     "name": "stdout",
     "output_type": "stream",
     "text": [
      "gt: tensor([7.8013e-05, 2.1206e-04, 5.7645e-04, 1.5669e-03, 4.2594e-03, 1.1578e-02,\n",
      "        3.1473e-02, 8.5552e-02, 2.3255e-01, 6.3215e-01])\n"
     ]
    }
   ],
   "source": [
    "def softmax(x: np.ndarray) -> np.ndarray:\n",
    "    # TODO: 实现softmax函数（2分）\n",
    "    _max = np.max(x)\n",
    "    x -= _max\n",
    "    exp_sum = np.sum(np.exp(x))\n",
    "    return np.exp(x) / exp_sum\n",
    "\n",
    "\n",
    "print(softmax(np.array([i for i in range(10)])))\n",
    "\n",
    "# 验证上面的 softmax 结果\n",
    "import torch\n",
    "import torch.nn.functional as F\n",
    "x = torch.tensor([i for i in range(10)], dtype=torch.float32)\n",
    "print(\"ground truth:\", F.softmax(x, dim=0))"
   ]
  },
  {
   "cell_type": "markdown",
   "metadata": {},
   "source": [
    "TODO：CBOW类，请补全`train_one_step`中的代码。\n",
    "\n",
    "推荐按照TODO描述的步骤来实现（预计15行代码），也可在保证结果正确的前提下按照自己的思路来实现。\n",
    "\n",
    "> tips: 建议使用numpy的向量化操作代替Python循环。\n",
    "> 比如同样是实现两个向量`a`和`b`的内积，`np.dot(a,b)`的运行效率可达纯Python实现的函数的百倍以上。同样的，向量外积也推荐使用`np.outer(a,b)`。具体的函数功能可参考Numpy文档。"
   ]
  },
  {
   "cell_type": "code",
   "execution_count": 59,
   "metadata": {},
   "outputs": [],
   "source": [
    "import os\n",
    "import pickle\n",
    "import time\n",
    "\n",
    "from tqdm import tqdm\n",
    "\n",
    "\n",
    "class CBOW:\n",
    "    def __init__(self, vocab: Vocab, vector_dim: int):\n",
    "        self.vocab = vocab\n",
    "        self.vector_dim = vector_dim\n",
    "\n",
    "        self.U = np.random.uniform(-1, 1, (len(self.vocab), self.vector_dim))  # vocab_size x vector_dim\n",
    "        self.V = np.random.uniform(-1, 1, (self.vector_dim, len(self.vocab)))  # vector_dim x vocab_size\n",
    "\n",
    "    def train(self, corpus: str, window_size: int, train_epoch: int, learning_rate: float, save_path: str = None):\n",
    "        dataset = Dataset(corpus, window_size)\n",
    "        start_time = time.time()\n",
    "\n",
    "        for epoch in range(1, train_epoch + 1):\n",
    "            self.train_one_epoch(epoch, dataset, learning_rate)\n",
    "            if save_path is not None:\n",
    "                self.save_model(save_path)\n",
    "\n",
    "        end_time = time.time()\n",
    "        print(f\"总耗时 {end_time - start_time:.2f}s\")\n",
    "\n",
    "    def train_one_epoch(self, epoch: int, dataset: Dataset, learning_rate: float):\n",
    "        steps, total_loss = 0, 0.0\n",
    "\n",
    "        with tqdm(iter(dataset), total=len(dataset), desc=f\"Epoch {epoch}\", ncols=80) as pbar:\n",
    "            for sample in pbar:\n",
    "                # sample 就是最开始定义的 __iter__ 返回的元组\n",
    "                # 第一位是前后文, 第二位是目标词\n",
    "                context_tokens, target_token = sample\n",
    "                loss = self.train_one_step(context_tokens, target_token, learning_rate)\n",
    "                total_loss += loss\n",
    "                steps += 1\n",
    "                if steps % 10 == 0:\n",
    "                    pbar.set_postfix({\"Avg. loss\": f\"{total_loss / steps:.2f}\"})\n",
    "\n",
    "        return total_loss / steps\n",
    "\n",
    "    def train_one_step(self, context_tokens: List[str], target_token: str, learning_rate: float) -> float:\n",
    "        \"\"\"\n",
    "        :param context_tokens:  目标词周围的词\n",
    "        :param target_token:    目标词\n",
    "        :param learning_rate:   学习率\n",
    "        :return:    loss值 (标量)\n",
    "        \"\"\"\n",
    "        C = len(context_tokens)\n",
    "\n",
    "        # TODO: 构造输入向量和目标向量（3分）\n",
    "        # context: 构造输入向量 (8,)\n",
    "        # target:  目标one-hot向量 (21,)\n",
    "        context_indices = [self.vocab.token_to_idx(token) for token in context_tokens]\n",
    "        context = np.mean(self.U[context_indices], axis=0)\n",
    "        target = one_hot(len(self.vocab), self.vocab.token_to_idx(target_token))\n",
    "\n",
    "        # TODO: 前向步骤（3分）\n",
    "        # U.shape=(21, 8), V.shape=(8, 21)\n",
    "        out = np.dot(self.V.T, context)\n",
    "        y = softmax(out)\n",
    "\n",
    "        # TODO: 计算loss（3分）\n",
    "        loss = -np.log(y[self.vocab.token_to_idx(target_token)])\n",
    "\n",
    "        # TODO: 更新参数（3分）\n",
    "        e = y - target  # e 是 (21,)\n",
    "        dV = np.outer(context, e)  # dV 是 (8, 21)\n",
    "        dcontext = np.dot(self.V, e)  # dcontext 是 (8,)\n",
    "        ### 注意是前面先算完所有梯度再更新\n",
    "        self.U[context_indices] -= learning_rate * (dcontext / C)\n",
    "        self.V -= learning_rate * dV\n",
    "\n",
    "        return loss\n",
    "\n",
    "    def similarity(self, token1: str, token2: str):\n",
    "        \"\"\" 计算两个词的相似性 \"\"\"\n",
    "        v1 = self.U[self.vocab.token_to_idx(token1)]\n",
    "        v2 = self.U[self.vocab.token_to_idx(token2)]\n",
    "        v1 = v1 / np.linalg.norm(v1)\n",
    "        v2 = v2 / np.linalg.norm(v2)\n",
    "        return np.dot(v1, v2)\n",
    "\n",
    "    def most_similar_tokens(self, token: str, n: int):\n",
    "        \"\"\" 召回与token最相似的n个token \"\"\"\n",
    "        norm_U = self.U / np.linalg.norm(self.U, axis=1, keepdims=True)\n",
    "\n",
    "        idx = self.vocab.token_to_idx(token, warn=True)\n",
    "        v = norm_U[idx]\n",
    "\n",
    "        cosine_similarity = np.dot(norm_U, v)\n",
    "        nbest_idx = np.argsort(cosine_similarity)[-n:][::-1]\n",
    "\n",
    "        results = []\n",
    "        for idx in nbest_idx:\n",
    "            _token = self.vocab.idx_to_token(idx)\n",
    "            results.append((_token, cosine_similarity[idx]))\n",
    "\n",
    "        return results\n",
    "\n",
    "    def save_model(self, path: str):\n",
    "        \"\"\" 将模型保存到`path`路径下，如果不存在`path`会主动创建 \"\"\"\n",
    "        os.makedirs(path, exist_ok=True)\n",
    "        self.vocab.save_vocab(path)\n",
    "\n",
    "        with open(os.path.join(path, \"wv.pkl\"), \"wb\") as f:\n",
    "            param = {\"U\": self.U, \"V\": self.V}\n",
    "            pickle.dump(param, f)\n",
    "\n",
    "    @classmethod\n",
    "    def load_model(cls, path: str):\n",
    "        \"\"\" 从`path`加载模型 \"\"\"\n",
    "        vocab = Vocab.load_vocab(path)\n",
    "\n",
    "        with open(os.path.join(path, \"wv.pkl\"), \"rb\") as f:\n",
    "            param = pickle.load(f)\n",
    "\n",
    "        U, V = param[\"U\"], param[\"V\"]\n",
    "        model = cls(vocab, U.shape[1])\n",
    "        model.U, model.V = U, V\n",
    "\n",
    "        return model\n"
   ]
  },
  {
   "cell_type": "markdown",
   "metadata": {},
   "source": [
    "## 测试\n",
    "\n",
    "测试部分可用于验证CBOW实现的正确性，此部分的结果不计入总分。\n",
    "\n",
    "### 测试1\n",
    "\n",
    "本测试可用于调试，最终一个epoch的平均loss约为0.5，并且“i”、“he”和“she”的相似性较高。"
   ]
  },
  {
   "cell_type": "code",
   "execution_count": 60,
   "metadata": {},
   "outputs": [
    {
     "name": "stdout",
     "output_type": "stream",
     "text": [
      "总Token数: 50\n",
      "词表大小: 21\n"
     ]
    },
    {
     "name": "stderr",
     "output_type": "stream",
     "text": [
      "Epoch 1: 100%|████████████████| 50/50 [00:00<00:00, 8334.93it/s, Avg. loss=2.89]\n",
      "Epoch 2: 100%|████████████████| 50/50 [00:00<00:00, 6245.61it/s, Avg. loss=1.54]\n",
      "Epoch 3: 100%|████████████████| 50/50 [00:00<00:00, 8282.92it/s, Avg. loss=1.05]\n",
      "Epoch 4: 100%|████████████████| 50/50 [00:00<00:00, 8333.28it/s, Avg. loss=0.82]\n",
      "Epoch 5: 100%|████████████████| 50/50 [00:00<00:00, 8333.61it/s, Avg. loss=0.76]\n",
      "Epoch 6: 100%|████████████████| 50/50 [00:00<00:00, 8331.62it/s, Avg. loss=0.67]\n",
      "Epoch 7: 100%|████████████████| 50/50 [00:00<00:00, 6251.20it/s, Avg. loss=0.53]\n",
      "Epoch 8: 100%|████████████████| 50/50 [00:00<00:00, 5000.12it/s, Avg. loss=0.54]\n",
      "Epoch 9: 100%|████████████████| 50/50 [00:00<00:00, 5543.33it/s, Avg. loss=0.52]\n",
      "Epoch 10: 100%|███████████████| 50/50 [00:00<00:00, 6251.20it/s, Avg. loss=0.50]"
     ]
    },
    {
     "name": "stdout",
     "output_type": "stream",
     "text": [
      "总耗时 0.09s\n",
      "[('i', 0.9999999999999999), ('he', 0.9925540605382073), ('she', 0.966337856762682), ('<unk>', 0.635699270231461), ('is', 0.3974123537637737)]\n",
      "[('he', 0.9999999999999999), ('i', 0.9925540605382073), ('she', 0.98580084006031), ('<unk>', 0.6171017925293523), ('is', 0.35823278721958063)]\n",
      "[('she', 1.0), ('he', 0.98580084006031), ('i', 0.966337856762682), ('<unk>', 0.501227926206575), ('is', 0.38698246680231174)]\n"
     ]
    },
    {
     "name": "stderr",
     "output_type": "stream",
     "text": [
      "\n"
     ]
    }
   ],
   "source": [
    "import random\n",
    "\n",
    "\n",
    "def test1():\n",
    "    random.seed(42)\n",
    "    np.random.seed(42)\n",
    "\n",
    "    vocab = Vocab(corpus=\"./data/debug.txt\")\n",
    "    cbow = CBOW(vocab, vector_dim=8)\n",
    "    cbow.train(corpus=\"./data/debug.txt\", window_size=3,\n",
    "               train_epoch=10, learning_rate=1.0)\n",
    "\n",
    "    print(cbow.most_similar_tokens(\"i\", 5))\n",
    "    print(cbow.most_similar_tokens(\"he\", 5))\n",
    "    print(cbow.most_similar_tokens(\"she\", 5))\n",
    "\n",
    "\n",
    "test1()\n"
   ]
  },
  {
   "cell_type": "markdown",
   "metadata": {},
   "source": [
    "### 测试2\n",
    "\n",
    "本测试将会在`treebank.txt`上训练词向量，为了加快训练流程，实验只保留高频的4000词，且词向量维度为20。\n",
    "\n",
    "在每个epoch结束后，会在`data/treebank.txt`中测试词向量的召回能力。如下所示，`data/treebank.txt`中每个样例为`word`以及对应的同义词，同义词从wordnet中获取。\n",
    "\n",
    "```\n",
    "[\n",
    "  \"about\",\n",
    "  [\n",
    "    \"most\",\n",
    "    \"virtually\",\n",
    "    \"around\",\n",
    "    \"almost\",\n",
    "    \"near\",\n",
    "    \"nearly\",\n",
    "    \"some\"\n",
    "  ]\n",
    "]\n",
    "```\n",
    "\n",
    "> 本阶段预计消耗25分钟，具体时间与`train_one_step`代码实现有关\n",
    "\n",
    "> 最后一个epoch平均loss降至5.1左右，并且在同义词上的召回率约为20%左右"
   ]
  },
  {
   "cell_type": "code",
   "execution_count": 61,
   "metadata": {},
   "outputs": [
    {
     "name": "stdout",
     "output_type": "stream",
     "text": [
      "总Token数: 205068\n",
      "词表大小: 4000\n"
     ]
    },
    {
     "name": "stderr",
     "output_type": "stream",
     "text": [
      "Epoch 1: 100%|████████| 205058/205058 [02:11<00:00, 1554.99it/s, Avg. loss=5.99]\n"
     ]
    },
    {
     "name": "stdout",
     "output_type": "stream",
     "text": [
      "Recall rate: 8.28%\n"
     ]
    },
    {
     "name": "stderr",
     "output_type": "stream",
     "text": [
      "Epoch 2: 100%|█████████| 205058/205058 [03:45<00:00, 907.54it/s, Avg. loss=5.59]\n"
     ]
    },
    {
     "name": "stdout",
     "output_type": "stream",
     "text": [
      "Recall rate: 12.43%\n"
     ]
    },
    {
     "name": "stderr",
     "output_type": "stream",
     "text": [
      "Epoch 3: 100%|████████| 205058/205058 [03:05<00:00, 1105.81it/s, Avg. loss=5.44]\n"
     ]
    },
    {
     "name": "stdout",
     "output_type": "stream",
     "text": [
      "Recall rate: 13.61%\n"
     ]
    },
    {
     "name": "stderr",
     "output_type": "stream",
     "text": [
      "Epoch 4: 100%|████████| 205058/205058 [02:47<00:00, 1223.87it/s, Avg. loss=5.34]\n"
     ]
    },
    {
     "name": "stdout",
     "output_type": "stream",
     "text": [
      "Recall rate: 15.98%\n"
     ]
    },
    {
     "name": "stderr",
     "output_type": "stream",
     "text": [
      "Epoch 5: 100%|████████| 205058/205058 [02:33<00:00, 1331.80it/s, Avg. loss=5.26]\n"
     ]
    },
    {
     "name": "stdout",
     "output_type": "stream",
     "text": [
      "Recall rate: 16.57%\n"
     ]
    },
    {
     "name": "stderr",
     "output_type": "stream",
     "text": [
      "Epoch 6: 100%|████████| 205058/205058 [02:42<00:00, 1258.04it/s, Avg. loss=5.20]\n"
     ]
    },
    {
     "name": "stdout",
     "output_type": "stream",
     "text": [
      "Recall rate: 18.93%\n"
     ]
    },
    {
     "name": "stderr",
     "output_type": "stream",
     "text": [
      "Epoch 7: 100%|████████| 205058/205058 [02:46<00:00, 1231.84it/s, Avg. loss=5.15]\n"
     ]
    },
    {
     "name": "stdout",
     "output_type": "stream",
     "text": [
      "Recall rate: 19.82%\n"
     ]
    },
    {
     "name": "stderr",
     "output_type": "stream",
     "text": [
      "Epoch 8: 100%|████████| 205058/205058 [02:50<00:00, 1205.47it/s, Avg. loss=5.11]\n"
     ]
    },
    {
     "name": "stdout",
     "output_type": "stream",
     "text": [
      "Recall rate: 20.12%\n"
     ]
    },
    {
     "name": "stderr",
     "output_type": "stream",
     "text": [
      "Epoch 9: 100%|████████| 205058/205058 [02:46<00:00, 1233.37it/s, Avg. loss=5.08]\n"
     ]
    },
    {
     "name": "stdout",
     "output_type": "stream",
     "text": [
      "Recall rate: 19.82%\n"
     ]
    },
    {
     "name": "stderr",
     "output_type": "stream",
     "text": [
      "Epoch 10: 100%|███████| 205058/205058 [02:35<00:00, 1321.10it/s, Avg. loss=5.05]\n"
     ]
    },
    {
     "name": "stdout",
     "output_type": "stream",
     "text": [
      "Recall rate: 19.82%\n",
      "Total time: 1686.635\n"
     ]
    }
   ],
   "source": [
    "import json\n",
    "import time\n",
    "\n",
    "\n",
    "def calculate_recall_rate(model: CBOW, word_synonyms: List[Tuple[str, List[str]]], topn: int) -> float:\n",
    "    \"\"\" 测试CBOW的召回率 \"\"\"\n",
    "    hit, total = 0, 1e-9\n",
    "    for word, synonyms in word_synonyms:\n",
    "        synonyms = set(synonyms)\n",
    "        recalled = set([w for w, _ in model.most_similar_tokens(word, topn)])\n",
    "        hit += len(synonyms & recalled)\n",
    "        total += len(synonyms)\n",
    "\n",
    "    print(f\"Recall rate: {hit / total:.2%}\")\n",
    "    return hit / total\n",
    "\n",
    "\n",
    "def test2():\n",
    "    random.seed(42)\n",
    "    np.random.seed(42)\n",
    "\n",
    "    corpus = \"./data/treebank.txt\"\n",
    "    lr = 1e-1\n",
    "    topn = 40\n",
    "\n",
    "    vocab = Vocab(corpus, max_vocab_size=4000)\n",
    "    model = CBOW(vocab, vector_dim=20)\n",
    "\n",
    "    dataset = Dataset(corpus, window_size=4)\n",
    "\n",
    "    with open(\"data/synonyms.json\", encoding=\"utf8\") as f:\n",
    "        word_synonyms: List[Tuple[str, List[str]]] = json.load(f)\n",
    "\n",
    "    for epoch in range(1, 11):\n",
    "        model.train_one_epoch(epoch, dataset, learning_rate=lr)\n",
    "        calculate_recall_rate(model, word_synonyms, topn)\n",
    "\n",
    "start = time.time()\n",
    "test2()\n",
    "end = time.time()\n",
    "print(\"Total time:\", round(end-start, 3))\n"
   ]
  },
  {
   "cell_type": "markdown",
   "metadata": {},
   "source": [
    "**实验总结**\n",
    "\n",
    "**CBOW 的训练过程**\n",
    "\n",
    "在每轮训练中，遍历数据集，对于每一组 `sample` 都会进行 `train_one_step` 来计算这一组的 loss，并更新模型参数\n",
    "\n",
    "首先计算 `context_indices = [self.vocab.token_to_idx(token) for token in context_tokens]`，是输入上下文的索引位置，`self.U[context_indices]` 能方便取出对应位置的权重，用来构建输入和更新参数。输入是取 `context_indices` 上 U 的参数的直接平均\n",
    "\n",
    "`target` 是目标词的单热向量，把 `token_to_idx(target_tokne)` 这个位置传入 `one_hot` 即可。由于这个ground truth只有一个位置非0，计算交叉熵损失时只需要计算这个位置的预测值负对数。\n",
    "\n",
    "前向步骤理论上为 $VUx$，在这里已经通过 `context_indices` 取出了 $U$ 中对应索引的权重，所以实际 `context` 对应计算好的 $Ux$。则预测值为 `np.dot(V.T, context)`，再经过 `softmax` 转化成概率向量，和 `target` 计算交叉熵损失（由于 ground truth 是单个位置为1的全0向量，可以直接计算该位置的负对数）\n",
    "\n",
    "下面计算梯度反向传播。由于本质上 $Ux$ 的结果已经由 `U[context_indices]` 给出，也就是 `context`，所以 $\\cfrac{\\partial E}{\\partial V}=eh^\\top=$ `np.outer(context, e)`；$\\cfrac{\\partial E}{\\partial U}=V^\\top e x^\\top=$ `np.dot(V, e)`，由于 `e` 已经包含了哪些选择的 `x` 位置信息，更新 U 的时候只需要更新 `U[context_indices]` 即可\n"
   ]
  },
  {
   "cell_type": "markdown",
   "metadata": {},
   "source": [
    "**实验结果**\n",
    "\n",
    "在下面的实验中，展示了不同学习率的训练效果（固定训练轮数 10 轮），参数选取情形包括 $0.1,~0.01,~0.001,~0.0001$，以及 $0.1\\rightarrow 0.001$ 的衰减学习率（每两个Epoch除以2）\n",
    "\n",
    "其中 $\\alpha\\leqslant 1\\times10^{-2}$ 的效果都显著不足，下面只选取了其中 $0.01$ 的情形，其余没有绘制在下面的折线图中，省略的 loss 和 recall rate 展示在附录的训练日志中。\n",
    "\n",
    "* Loss-Epoch\n",
    "\n",
    "    ![](https://s21.ax1x.com/2024/11/29/pA5R0lF.png)\n",
    "\n",
    "* Recall Rate-Epoch\n",
    "\n",
    "    ![](https://s21.ax1x.com/2024/11/29/pA5RwSU.png)\n",
    "\n",
    "* $\\alpha=0.01$ 的长 epoch 训练效果（30epoch）\n",
    "\n",
    "    可见从 10 轮开始，recall rate就已经稳定在 20%~21% 之间，loss则极缓慢地下降，说明从这里开始已经没有收敛空间了。但考虑到在前面实验中，后面几轮衰减 $\\alpha$ 也没有足够的提升，不妨可以猜想 20%~21% 的 recall rate 是这个模型参数量在这个训练集上的极限了。\n",
    "    \n",
    "    ![](https://s21.ax1x.com/2024/11/30/pA5btRs.png)"
   ]
  },
  {
   "cell_type": "markdown",
   "metadata": {
    "collapsed": false
   },
   "source": [
    "**附录：日志信息**\n",
    "\n",
    "> 部分实验经过 torch 重写，torch 的所有相关 SEED 也设为 42\n",
    "\n",
    "1. `lr` 逐轮下降（每两个epoch除以2）\n",
    "    ```\n",
    "    Epoch 1 (lr=0.1): 100%|███████████████████| 205058/205058 [01:19<00:00, 2567.64it/s, Avg. loss=5.99]\n",
    "    Recall rate: 7.40%\n",
    "    Epoch 2 (lr=0.05): 100%|██████████████████| 205058/205058 [01:20<00:00, 2560.30it/s, Avg. loss=5.58]\n",
    "    Recall rate: 9.17%\n",
    "    Epoch 3 (lr=0.05): 100%|██████████████████| 205058/205058 [01:20<00:00, 2549.98it/s, Avg. loss=5.47]\n",
    "    Recall rate: 9.47%\n",
    "    Epoch 4 (lr=0.025): 100%|█████████████████| 205058/205058 [01:20<00:00, 2557.60it/s, Avg. loss=5.38]\n",
    "    Recall rate: 10.65%\n",
    "    Epoch 5 (lr=0.025): 100%|█████████████████| 205058/205058 [01:19<00:00, 2574.88it/s, Avg. loss=5.34]\n",
    "    Recall rate: 10.65%\n",
    "    Epoch 6 (lr=0.0125): 100%|████████████████| 205058/205058 [01:19<00:00, 2579.14it/s, Avg. loss=5.29]\n",
    "    Recall rate: 10.95%\n",
    "    Epoch 7 (lr=0.0125): 100%|████████████████| 205058/205058 [01:19<00:00, 2583.04it/s, Avg. loss=5.28]\n",
    "    Recall rate: 11.83%\n",
    "    Epoch 8 (lr=0.00625): 100%|███████████████| 205058/205058 [01:19<00:00, 2572.64it/s, Avg. loss=5.26]\n",
    "    Recall rate: 11.24%\n",
    "    Epoch 9 (lr=0.00625): 100%|███████████████| 205058/205058 [01:19<00:00, 2577.23it/s, Avg. loss=5.25]\n",
    "    Recall rate: 11.83%\n",
    "    Epoch 10 (lr=0.003125): 100%|█████████████| 205058/205058 [01:19<00:00, 2579.53it/s, Avg. loss=5.24]\n",
    "    Recall rate: 11.54%\n",
    "    Total time: 800.002\n",
    "    ```\n",
    "2. `lr=1e-1`\n",
    "    ```\n",
    "    Epoch 1: 100%|████████| 205058/205058 [02:14<00:00, 1529.93it/s, Avg. loss=5.99]\n",
    "    Recall rate: 8.28%\n",
    "    Epoch 2: 100%|████████| 205058/205058 [02:41<00:00, 1273.33it/s, Avg. loss=5.59]\n",
    "    Recall rate: 12.43%\n",
    "    Epoch 3: 100%|████████| 205058/205058 [02:34<00:00, 1326.35it/s, Avg. loss=5.44]\n",
    "    Recall rate: 13.61%\n",
    "    Epoch 4: 100%|████████| 205058/205058 [02:45<00:00, 1238.54it/s, Avg. loss=5.34]\n",
    "    Recall rate: 15.98%\n",
    "    Epoch 5: 100%|████████| 205058/205058 [02:35<00:00, 1321.23it/s, Avg. loss=5.26]\n",
    "    Recall rate: 16.57%\n",
    "    Epoch 6: 100%|████████| 205058/205058 [02:24<00:00, 1420.50it/s, Avg. loss=5.20]\n",
    "    Recall rate: 18.93%\n",
    "    Epoch 7: 100%|████████| 205058/205058 [02:56<00:00, 1161.47it/s, Avg. loss=5.15]\n",
    "    Recall rate: 19.82%\n",
    "    Epoch 8: 100%|████████| 205058/205058 [02:29<00:00, 1375.01it/s, Avg. loss=5.11]\n",
    "    Recall rate: 20.12%\n",
    "    Epoch 9: 100%|████████| 205058/205058 [02:23<00:00, 1431.64it/s, Avg. loss=5.08]\n",
    "    Recall rate: 19.82%\n",
    "    Epoch 10: 100%|███████| 205058/205058 [02:48<00:00, 1218.77it/s, Avg. loss=5.05]\n",
    "    Recall rate: 19.82%\n",
    "    Total time: 1552.772\n",
    "    ```\n",
    "3. `lr=1e-2`\n",
    "    ```\n",
    "    Epoch 1: 100%|████████| 205058/205058 [02:24<00:00, 1417.90it/s, Avg. loss=6.63]\n",
    "    Recall rate: 3.55%\n",
    "    Epoch 2: 100%|████████| 205058/205058 [02:18<00:00, 1484.17it/s, Avg. loss=6.13]\n",
    "    Recall rate: 3.85%\n",
    "    Epoch 3: 100%|████████| 205058/205058 [02:32<00:00, 1343.80it/s, Avg. loss=5.99]\n",
    "    Recall rate: 4.44%\n",
    "    Epoch 4: 100%|████████| 205058/205058 [02:31<00:00, 1350.84it/s, Avg. loss=5.89]\n",
    "    Recall rate: 4.73%\n",
    "    Epoch 5: 100%|████████| 205058/205058 [02:23<00:00, 1433.64it/s, Avg. loss=5.82]\n",
    "    Recall rate: 5.62%\n",
    "    Epoch 6: 100%|████████| 205058/205058 [02:23<00:00, 1431.04it/s, Avg. loss=5.76]\n",
    "    Recall rate: 7.10%\n",
    "    Epoch 7: 100%|████████| 205058/205058 [02:14<00:00, 1529.85it/s, Avg. loss=5.71]\n",
    "    Recall rate: 7.10%\n",
    "    Epoch 8: 100%|████████| 205058/205058 [02:12<00:00, 1546.11it/s, Avg. loss=5.66]\n",
    "    Recall rate: 7.10%\n",
    "    Epoch 9: 100%|████████| 205058/205058 [02:11<00:00, 1563.37it/s, Avg. loss=5.62]\n",
    "    Recall rate: 7.99%\n",
    "    Epoch 10: 100%|███████| 205058/205058 [02:11<00:00, 1564.87it/s, Avg. loss=5.59]\n",
    "    Recall rate: 8.28%\n",
    "    Total time: 1403.121\n",
    "    ```\n",
    "4. `lr=1e-3`\n",
    "   ```\n",
    "    Epoch 1 (lr=0.001): 100%|█████████████████| 205058/205058 [01:20<00:00, 2532.15it/s, Avg. loss=7.76]\n",
    "    Recall rate: 1.18%\n",
    "    Epoch 2 (lr=0.001): 100%|█████████████████| 205058/205058 [01:20<00:00, 2548.52it/s, Avg. loss=7.01]\n",
    "    Recall rate: 1.18%\n",
    "    Epoch 3 (lr=0.001): 100%|█████████████████| 205058/205058 [01:20<00:00, 2537.13it/s, Avg. loss=6.75]\n",
    "    Recall rate: 1.18%\n",
    "    Epoch 4 (lr=0.001): 100%|█████████████████| 205058/205058 [01:20<00:00, 2539.97it/s, Avg. loss=6.59]\n",
    "    Recall rate: 1.18%\n",
    "    Epoch 5 (lr=0.001): 100%|█████████████████| 205058/205058 [01:21<00:00, 2529.76it/s, Avg. loss=6.49]\n",
    "    Recall rate: 1.48%\n",
    "    Epoch 6 (lr=0.001): 100%|█████████████████| 205058/205058 [01:21<00:00, 2521.30it/s, Avg. loss=6.41]\n",
    "    Recall rate: 1.48%\n",
    "    Epoch 7 (lr=0.001): 100%|█████████████████| 205058/205058 [01:21<00:00, 2502.41it/s, Avg. loss=6.36]\n",
    "    Recall rate: 1.78%\n",
    "    Epoch 8 (lr=0.001): 100%|█████████████████| 205058/205058 [01:20<00:00, 2535.05it/s, Avg. loss=6.31]\n",
    "    Recall rate: 2.07%\n",
    "    Epoch 9 (lr=0.001): 100%|█████████████████| 205058/205058 [01:20<00:00, 2537.18it/s, Avg. loss=6.27]\n",
    "    Recall rate: 2.07%\n",
    "    Epoch 10 (lr=0.001): 100%|████████████████| 205058/205058 [01:20<00:00, 2537.86it/s, Avg. loss=6.24]\n",
    "    Recall rate: 2.37%\n",
    "    Total time: 811.283\n",
    "   ```\n",
    "5. `lr=1e-1` 30 epoch 训练，到后面发生震荡，几乎不再进一步收敛\n",
    "    ```\n",
    "    Epoch 1 (lr=0.1): 100%|███████████████████| 205058/205058 [01:21<00:00, 2500.74it/s, Avg. loss=5.99]\n",
    "    Recall rate: 7.40%\n",
    "    Epoch 2 (lr=0.1): 100%|███████████████████| 205058/205058 [01:21<00:00, 2507.55it/s, Avg. loss=5.59]\n",
    "    Recall rate: 10.06%\n",
    "    Epoch 3 (lr=0.1): 100%|███████████████████| 205058/205058 [01:23<00:00, 2467.67it/s, Avg. loss=5.44]\n",
    "    Recall rate: 11.83%\n",
    "    Epoch 4 (lr=0.1): 100%|███████████████████| 205058/205058 [01:21<00:00, 2516.63it/s, Avg. loss=5.34]\n",
    "    Recall rate: 13.31%\n",
    "    Epoch 5 (lr=0.1): 100%|███████████████████| 205058/205058 [01:21<00:00, 2526.68it/s, Avg. loss=5.26]\n",
    "    Recall rate: 17.16%\n",
    "    Epoch 6 (lr=0.1): 100%|███████████████████| 205058/205058 [01:20<00:00, 2541.01it/s, Avg. loss=5.20]\n",
    "    Recall rate: 18.64%\n",
    "    Epoch 7 (lr=0.1): 100%|███████████████████| 205058/205058 [01:20<00:00, 2535.92it/s, Avg. loss=5.15]\n",
    "    Recall rate: 18.64%\n",
    "    Epoch 8 (lr=0.1): 100%|███████████████████| 205058/205058 [01:21<00:00, 2508.93it/s, Avg. loss=5.11]\n",
    "    Recall rate: 18.93%\n",
    "    Epoch 9 (lr=0.1): 100%|███████████████████| 205058/205058 [01:21<00:00, 2524.33it/s, Avg. loss=5.07]\n",
    "    Recall rate: 19.82%\n",
    "    Epoch 10 (lr=0.1): 100%|██████████████████| 205058/205058 [01:21<00:00, 2513.85it/s, Avg. loss=5.04]\n",
    "    Recall rate: 18.93%\n",
    "    Epoch 11 (lr=0.1): 100%|██████████████████| 205058/205058 [01:22<00:00, 2489.61it/s, Avg. loss=5.02]\n",
    "    Recall rate: 19.23%\n",
    "    Epoch 12 (lr=0.1): 100%|██████████████████| 205058/205058 [01:22<00:00, 2500.58it/s, Avg. loss=4.99]\n",
    "    Recall rate: 20.12%\n",
    "    Epoch 13 (lr=0.1): 100%|██████████████████| 205058/205058 [01:21<00:00, 2510.05it/s, Avg. loss=4.97]\n",
    "    Recall rate: 20.12%\n",
    "    Epoch 14 (lr=0.1): 100%|██████████████████| 205058/205058 [01:21<00:00, 2521.31it/s, Avg. loss=4.96]\n",
    "    Recall rate: 20.12%\n",
    "    Epoch 15 (lr=0.1): 100%|██████████████████| 205058/205058 [01:21<00:00, 2521.02it/s, Avg. loss=4.94]\n",
    "    Recall rate: 20.12%\n",
    "    Epoch 16 (lr=0.1): 100%|██████████████████| 205058/205058 [01:22<00:00, 2498.96it/s, Avg. loss=4.93]\n",
    "    Recall rate: 20.41%\n",
    "    Epoch 17 (lr=0.1): 100%|██████████████████| 205058/205058 [01:21<00:00, 2502.08it/s, Avg. loss=4.91]\n",
    "    Recall rate: 19.82%\n",
    "    Epoch 18 (lr=0.1): 100%|██████████████████| 205058/205058 [01:21<00:00, 2518.19it/s, Avg. loss=4.90]\n",
    "    Recall rate: 20.41%\n",
    "    Epoch 19 (lr=0.1): 100%|██████████████████| 205058/205058 [01:22<00:00, 2488.03it/s, Avg. loss=4.89]\n",
    "    Recall rate: 20.41%\n",
    "    Epoch 20 (lr=0.1): 100%|██████████████████| 205058/205058 [01:22<00:00, 2495.08it/s, Avg. loss=4.88]\n",
    "    Recall rate: 21.01%\n",
    "    Epoch 21 (lr=0.1): 100%|██████████████████| 205058/205058 [01:11<00:00, 2884.52it/s, Avg. loss=4.87]\n",
    "    Recall rate: 21.01%\n",
    "    Epoch 22 (lr=0.1): 100%|██████████████████| 205058/205058 [01:12<00:00, 2845.63it/s, Avg. loss=4.87]\n",
    "    Recall rate: 21.60%\n",
    "    Epoch 23 (lr=0.1): 100%|██████████████████| 205058/205058 [01:12<00:00, 2812.21it/s, Avg. loss=4.86]\n",
    "    Recall rate: 21.60%\n",
    "    Epoch 24 (lr=0.1): 100%|██████████████████| 205058/205058 [01:11<00:00, 2872.27it/s, Avg. loss=4.85]\n",
    "    Recall rate: 21.30%\n",
    "    Epoch 25 (lr=0.1): 100%|██████████████████| 205058/205058 [01:12<00:00, 2846.53it/s, Avg. loss=4.85]\n",
    "    Recall rate: 21.30%\n",
    "    Epoch 26 (lr=0.1): 100%|██████████████████| 205058/205058 [01:12<00:00, 2838.94it/s, Avg. loss=4.84]\n",
    "    Recall rate: 21.01%\n",
    "    Epoch 27 (lr=0.1): 100%|██████████████████| 205058/205058 [01:12<00:00, 2820.65it/s, Avg. loss=4.84]\n",
    "    Recall rate: 21.01%\n",
    "    Epoch 28 (lr=0.1): 100%|██████████████████| 205058/205058 [01:13<00:00, 2803.21it/s, Avg. loss=4.83]\n",
    "    Recall rate: 20.71%\n",
    "    Epoch 29 (lr=0.1): 100%|██████████████████| 205058/205058 [01:13<00:00, 2795.12it/s, Avg. loss=4.83]\n",
    "    Recall rate: 20.71%\n",
    "    Epoch 30 (lr=0.1): 100%|██████████████████| 205058/205058 [01:12<00:00, 2838.62it/s, Avg. loss=4.82]\n",
    "    Recall rate: 21.01%\n",
    "    ```"
   ]
  }
 ],
 "metadata": {
  "kernelspec": {
   "display_name": "Python 3.7.9 ('main')",
   "language": "python",
   "name": "python3"
  },
  "language_info": {
   "codemirror_mode": {
    "name": "ipython",
    "version": 3
   },
   "file_extension": ".py",
   "mimetype": "text/x-python",
   "name": "python",
   "nbconvert_exporter": "python",
   "pygments_lexer": "ipython3",
   "version": "3.9.13"
  },
  "vscode": {
   "interpreter": {
    "hash": "f18f9dacbff0d5957274e7eab45e9a081b8e58c43f44c2ad827db9dd3cd49b6f"
   }
  }
 },
 "nbformat": 4,
 "nbformat_minor": 4
}
