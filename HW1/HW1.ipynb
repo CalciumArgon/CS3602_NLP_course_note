{
 "cells": [
  {
   "cell_type": "markdown",
   "id": "4a5a31d058a6316b",
   "metadata": {},
   "source": [
    "# 作业一：实现HMM中文分词和BPE英文分词\n",
    "姓名：陶瑞\n",
    "学号：522030910024"
   ]
  },
  {
   "cell_type": "markdown",
   "id": "0a7a16ed",
   "metadata": {},
   "source": [
    "## 任务一：HMM模型用于中文分词"
   ]
  },
  {
   "cell_type": "markdown",
   "id": "030d9a94",
   "metadata": {},
   "source": [
    "任务一评分标准：\n",
    "1. 共有8处TODO需要填写，每个TODO计1-2分，共9分，预计代码量30行；\n",
    "2. 允许自行修改、编写代码完成，对于该情况，请补充注释以便于评分，否则结果不正确将导致较多的扣分；\n",
    "3. 用于说明实验的文字和总结不额外计分，但不写会导致扣分。\n",
    "\n",
    "注：本任务仅在短句子上进行效果测试，因此对概率的计算可直接进行连乘。在实践中，常先对概率取对数，将连乘变为加法来计算，以避免出现数值溢出的情况。"
   ]
  },
  {
   "cell_type": "markdown",
   "id": "f7d77db9",
   "metadata": {},
   "source": [
    "导入HMM参数，初始化所需的起始概率矩阵，转移概率矩阵，发射概率矩阵"
   ]
  },
  {
   "cell_type": "code",
   "execution_count": 2,
   "id": "b36e0db8",
   "metadata": {},
   "outputs": [],
   "source": [
    "import pickle\n",
    "import numpy as np"
   ]
  },
  {
   "cell_type": "code",
   "execution_count": 3,
   "id": "0d25beba",
   "metadata": {},
   "outputs": [
    {
     "name": "stdout",
     "output_type": "stream",
     "text": [
      "start_prob shape: (2,)\n",
      "trans_mat: [[0.18967134 0.81032866]\n",
      " [0.4821748  0.5178252 ]]\n",
      "emission_mat shape: (2, 65536)\n"
     ]
    }
   ],
   "source": [
    "with open(\"hmm_parameters.pkl\", \"rb\") as f:\n",
    "    hmm_parameters = pickle.load(f)\n",
    "\n",
    "# 非断字（B）为第0行，断字（I）为第1行\n",
    "# 发射概率矩阵中，词典大小为65536，以汉字的ord作为行key\n",
    "start_probability = hmm_parameters[\"start_prob\"]  # shape(2,)\n",
    "trans_matrix = hmm_parameters[\"trans_mat\"]  # shape(2, 2)\n",
    "emission_matrix = hmm_parameters[\"emission_mat\"]  # shape(2, 65536)\n",
    "print(\"start_prob shape:\", start_probability.shape)\n",
    "print(\"trans_mat:\", trans_matrix)\n",
    "print(\"emission_mat shape:\", emission_matrix.shape)"
   ]
  },
  {
   "cell_type": "markdown",
   "id": "f7070152",
   "metadata": {},
   "source": [
    "定义待处理的句子"
   ]
  },
  {
   "cell_type": "code",
   "execution_count": 4,
   "id": "87219e30",
   "metadata": {},
   "outputs": [],
   "source": [
    "# TODO: 将input_sentence中的xxx替换为你的姓名（1分）\n",
    "input_sentence = \"陶瑞是一名优秀的学生\"\n",
    "# input_sentence = \"学生是一名优秀的学生\"\n",
    "# input_sentence = \"我有个做中文分词的方法\"\n",
    "# input_sentence = \"我有一个实现中文分词的方法\"\n",
    "# input_sentence = \"你吃饭了吗\""
   ]
  },
  {
   "cell_type": "markdown",
   "id": "1035cbc7",
   "metadata": {},
   "source": [
    "实现viterbi算法，并以此进行中文分词\n",
    "\n",
    "（算法的具体细节在注释中给出）"
   ]
  },
  {
   "cell_type": "code",
   "execution_count": 5,
   "id": "1adac849",
   "metadata": {},
   "outputs": [],
   "source": [
    "def viterbi(sent_orig, start_prob, trans_mat, emission_mat):\n",
    "    \"\"\"\n",
    "    viterbi算法进行中文分词\n",
    "\n",
    "    Args:\n",
    "        sent_orig: str - 输入的句子\n",
    "        start_prob: numpy.ndarray - 起始概率矩阵\n",
    "        trans_mat: numpy.ndarray - 转移概率矩阵\n",
    "        emission_mat: numpy.ndarray - 发射概率矩阵\n",
    "\n",
    "    Return:\n",
    "        str - 中文分词的结果\n",
    "    \"\"\"\n",
    "\n",
    "    #  将汉字转为数字表示\n",
    "    sent_ord = [ord(x) for x in sent_orig]\n",
    "\n",
    "    # `dp`用来储存不同位置每种标注（B/I）的最大概率值\n",
    "    dp = np.zeros((2, len(sent_ord)), dtype=float)\n",
    "\n",
    "    # `path`用来储存最大概率对应的上步B/I选择\n",
    "    #  例如 path[1][7] == 1 意味着第8个（从1开始计数）字符标注I对应的最大概率，其前一步的隐状态为1（I）\n",
    "    #  例如 path[0][5] == 1 意味着第6个字符标注B对应的最大概率，其前一步的隐状态为1（I）\n",
    "    #  例如 path[1][1] == 0 意味着第2个字符标注I对应的最大概率，其前一步的隐状态为0（B）\n",
    "    path = np.zeros((2, len(sent_ord)), dtype=int)\n",
    "\n",
    "    #  TODO: 第一个位置的最大概率值计算（1分）\n",
    "    # 第一个位置的计算是 P(BI, x1) = P(BI) * P(x1|BI)\n",
    "    # 其中 P(BI) 由起始矩阵得到, P(x1|BI) 由发射矩阵得到\n",
    "    # 在分词任务中, BI 只有2种可能, 所以下面所有过程都是循环两遍\n",
    "    for i in range(2):\n",
    "        dp[i][0] = start_prob[i] * emission_mat[i][sent_ord[0]]\n",
    "\n",
    "    #  TODO: 其余位置的最大概率值计算（填充dp和path矩阵）（2分）\n",
    "    # 最外层的循环针对每个位置\n",
    "    for i in range(1, len(sent_ord)):\n",
    "        # 每个位置上遍历隐状态, 求每个位置不同 BI 情况下各自的概率\n",
    "        for j in range(2):\n",
    "            max_value = -1\n",
    "            max_path = None\n",
    "            # 实际可以不写这个循环, 相当于就是求 max_{可能转移过来的状态}\n",
    "            # 循环可以更方便找到对应的最大值是从哪里转移过来的, 方便记录 path\n",
    "            for left_tag in range(2):\n",
    "                # 转移: P(left) * P(xi | left_tag) * P(BI | xi)\n",
    "                # 在这里 P(left) 表示上一个位置从 left_tag 转移过来, 因此就是 dp[left_tag][i-1]\n",
    "                # 剩下两项都从输入读取的 转移矩阵和发射矩阵种读取\n",
    "                tmp = dp[left_tag][i - 1] * trans_mat[left_tag][j] * emission_mat[j][sent_ord[i]]\n",
    "                # 更新最大值 和 取到最大值时是从哪个 tag 转移过来的\n",
    "                if tmp > max_value:\n",
    "                    max_value = tmp\n",
    "                    max_path = left_tag\n",
    "            # 取遍 BI 后最终更新 dp 和 path\n",
    "            dp[j][i] = max_value\n",
    "            path[j][i] = max_path\n",
    "\n",
    "    #  `labels`用来储存每个位置最有可能的隐状态\n",
    "    labels = [0 for _ in range(len(sent_ord))]\n",
    "\n",
    "    #  TODO: 计算labels每个位置上的值（填充labels矩阵）（1分）\n",
    "    # 最后一位的标注是最后一个位置的最大概率值对应的标注\n",
    "    labels[-1] = np.argmax(dp[:, -1])\n",
    "    for i in range(len(sent_ord) - 2, -1, -1):\n",
    "        # 第 i 位的标注看 path 中记录的 i+1 位更新最大值时, 是从哪个上一位转移过来的\n",
    "        # 也就是第 i 位最优的标注\n",
    "        labels[i] = path[labels[i + 1]][i + 1]\n",
    "\n",
    "    #  根据lalels生成切分好的字符串\n",
    "    sent_split = []\n",
    "    for idx, label in enumerate(labels):\n",
    "        if label == 1:\n",
    "            sent_split += [sent_ord[idx], ord(\"/\")]\n",
    "        else:\n",
    "            sent_split += [sent_ord[idx]]\n",
    "    sent_split_str = \"\".join([chr(x) for x in sent_split])\n",
    "\n",
    "    return sent_split_str"
   ]
  },
  {
   "cell_type": "code",
   "execution_count": 6,
   "id": "d795414b",
   "metadata": {},
   "outputs": [
    {
     "name": "stdout",
     "output_type": "stream",
     "text": [
      "viterbi算法分词结果: 陶瑞是/一名/优秀/的/学生/\n"
     ]
    }
   ],
   "source": [
    "print(\"viterbi算法分词结果:\", viterbi(input_sentence, start_probability, trans_matrix, emission_matrix))"
   ]
  },
  {
   "cell_type": "markdown",
   "id": "60fcafdb",
   "metadata": {},
   "source": [
    "实现前向算法，计算该句子的概率值\n",
    "\n",
    "（从算法实现上来说，前向算法和Viterbi几乎完全一样，只是把 $\\max$ 项变成求和）\n",
    "\n",
    "（因此我算法的注释也基本照抄了Viterbi算法的注释）"
   ]
  },
  {
   "cell_type": "code",
   "execution_count": 7,
   "id": "cf6796a1",
   "metadata": {},
   "outputs": [],
   "source": [
    "def compute_prob_by_forward(sent_orig, start_prob, trans_mat, emission_mat):\n",
    "    \"\"\"\n",
    "    前向算法，计算输入中文句子的概率值\n",
    "\n",
    "    Args:\n",
    "        sent_orig: str - 输入的句子\n",
    "        start_prob: numpy.ndarray - 起始概率矩阵\n",
    "        trans_mat: numpy.ndarray - 转移概率矩阵\n",
    "        emission_mat: numpy.ndarray - 发射概率矩阵\n",
    "\n",
    "    Return:\n",
    "        float - 概率值\n",
    "    \"\"\"\n",
    "\n",
    "    #  将汉字转为数字表示\n",
    "    sent_ord = [ord(x) for x in sent_orig]\n",
    "\n",
    "    # `dp`用来储存不同位置每种隐状态（B/I）下，到该位置为止的句子的概率\n",
    "    dp = np.zeros((2, len(sent_ord)), dtype=float)\n",
    "\n",
    "    # TODO: 初始位置概率的计算（1分）\n",
    "    # 第一个位置的计算是 P(BI, x1) = P(BI) * P(x1|BI)\n",
    "    # 其中 P(BI) 由起始矩阵得到, P(x1|BI) 由发射矩阵得到\n",
    "    for i in range(2):\n",
    "        dp[i][0] = start_prob[i] * emission_mat[i][sent_ord[0]]\n",
    "    # TODO: 先计算其余位置的概率（填充dp矩阵），然后return概率值（1分）\n",
    "    # 最外层的循环针对每个位置 (每个词)\n",
    "    for i in range(1, len(sent_ord)):\n",
    "        # 每个位置上遍历隐状态, 求截止到这个位置不同 BI 情况下各自的概率\n",
    "        for j in range(2):\n",
    "            # 对于 dp[j][i] 这个位置, 对所有能转移到它这里的状态求和\n",
    "            dp[j][i] = sum([\n",
    "                dp[left_tag][i - 1] * trans_mat[left_tag][j] * emission_mat[j][sent_ord[i]]\n",
    "                 for left_tag in range(2)\n",
    "            ])\n",
    "\n",
    "    return sum([dp[i][len(sent_ord) - 1] for i in range(2)])"
   ]
  },
  {
   "cell_type": "markdown",
   "id": "59533cd8",
   "metadata": {},
   "source": [
    "实现后向算法，计算该句子的概率值\n",
    "\n",
    "（算法的具体细节在注释中给出）"
   ]
  },
  {
   "cell_type": "code",
   "execution_count": 8,
   "id": "1e898306",
   "metadata": {},
   "outputs": [],
   "source": [
    "def compute_prob_by_backward(sent_orig, start_prob, trans_mat, emission_mat):\n",
    "    \"\"\"\n",
    "    后向算法，计算输入中文句子的概率值\n",
    "\n",
    "    Args:\n",
    "        sent_orig: str - 输入的句子\n",
    "        start_prob: numpy.ndarray - 起始概率矩阵\n",
    "        trans_mat: numpy.ndarray - 转移概率矩阵\n",
    "        emission_mat: numpy.ndarray - 发射概率矩阵\n",
    "\n",
    "    Return:\n",
    "        float - 概率值\n",
    "    \"\"\"\n",
    "\n",
    "    #  将汉字转为数字表示\n",
    "    sent_ord = [ord(x) for x in sent_orig]\n",
    "\n",
    "    # `dp`用来储存不同位置每种隐状态（B/I）下，从结尾到该位置为止的句子的概率\n",
    "    dp = np.zeros((2, len(sent_ord)), dtype=float)\n",
    "\n",
    "    # TODO: 终末位置概率的初始化（1分）\n",
    "    # 最后一位的概率为 1\n",
    "    for i in range(2):\n",
    "        dp[i][-1] = 1\n",
    "\n",
    "    # TODO: 先计算其余位置的概率（填充dp矩阵），然后return概率值（1分）\n",
    "    # 最外层的循环从后向前针对每个位置\n",
    "    for i in range(len(sent_ord) - 2, -1, -1):\n",
    "        # 每个位置上遍历隐状态, 求截止到这个位置不同 BI 情况下各自的概率\n",
    "        for j in range(2):\n",
    "            # 对于 dp[j][i] 这个位置, 对所有能从它转移出去的状态求和\n",
    "            dp[j][i] = sum([\n",
    "                dp[right_tag][i + 1] * trans_matrix[j][right_tag] * emission_matrix[right_tag][sent_ord[i + 1]]\n",
    "                for right_tag in range(2)\n",
    "            ])\n",
    "\n",
    "    return sum([dp[i][0] * start_prob[i] * emission_mat[i][sent_ord[0]] for i in range(2)])"
   ]
  },
  {
   "cell_type": "code",
   "execution_count": 9,
   "id": "b26101d0",
   "metadata": {},
   "outputs": [
    {
     "name": "stdout",
     "output_type": "stream",
     "text": [
      "Input: 陶瑞是一名优秀的学生\n",
      "前向算法概率： 6.034564902506927e-30\n",
      "后向算法概率： 6.034564902506927e-30\n"
     ]
    }
   ],
   "source": [
    "print(\"Input:\", input_sentence)\n",
    "print(\"前向算法概率：\", compute_prob_by_forward(input_sentence, start_probability, trans_matrix, emission_matrix))\n",
    "print(\"后向算法概率：\", compute_prob_by_backward(input_sentence, start_probability, trans_matrix, emission_matrix))"
   ]
  },
  {
   "cell_type": "markdown",
   "id": "ce7c8732",
   "metadata": {},
   "source": [
    "**TODO：实验总结**\n",
    "\n",
    "更多的对 Viterbi、前向算法、后向算法的测试句子如下所示，Viterbi的分词效果并没有达到非常理想，表现为经常错误地分隔单个字。前向算法和后向算法计算的概率是相同的（除去数值精度影响），这与理论结果一致。"
   ]
  },
  {
   "cell_type": "code",
   "execution_count": 10,
   "id": "78802f4a",
   "metadata": {},
   "outputs": [
    {
     "name": "stdout",
     "output_type": "stream",
     "text": [
      "1 | 你/吃/饭了/吗/ | 吃饭/了/吗/你/\n",
      "  Forward |\n",
      "   1.5411621241433865e-18 | 你吃饭了吗\n",
      "   1.6437574917594602e-18 | 吃饭了吗你\n",
      "2 | 小明/是/常/见/的/名字/ | 隐马/不是/常/见/的/名字/\n",
      "  Forward |\n",
      "   8.619496302661203e-23 | 小明是常见的名字\n",
      "   8.367528454584874e-28 | 隐马不是常见的名字\n",
      "3 | 最外/层/从/后/向/前/的/循/环针/对/每/个/位/置/ | 最外/层/会/针对/每/一个/位/置/进行/从/后/向/前/的/循/环\n",
      "  Forward |\n",
      "   1.3879345259233953e-51 | 最外层从后向前的循环针对每个位置\n",
      "   8.710127920547368e-62 | 最外层会针对每一个位置进行从后向前的循环\n"
     ]
    }
   ],
   "source": [
    "test_sentence_tuple = [\n",
    "    (\"你吃饭了吗\", \"吃饭了吗你\"),\n",
    "    (\"小明是常见的名字\", \"隐马不是常见的名字\"),\n",
    "    (\"最外层从后向前的循环针对每个位置\", \"最外层会针对每一个位置进行从后向前的循环\")\n",
    "]\n",
    "for i, tup in enumerate(test_sentence_tuple):\n",
    "    division1 = viterbi(tup[0], start_probability, trans_matrix, emission_matrix)\n",
    "    division2 = viterbi(tup[1], start_probability, trans_matrix, emission_matrix)\n",
    "    p1_f = compute_prob_by_forward(tup[0], start_probability, trans_matrix, emission_matrix)\n",
    "    p2_f = compute_prob_by_forward(tup[1], start_probability, trans_matrix, emission_matrix)\n",
    "    print(\"{} | {} | {}\".format(i+1, division1, division2))\n",
    "    print(\"  Forward |\")\n",
    "    print(\"   {} | {}\".format(p1_f, tup[0]))\n",
    "    print(\"   {} | {}\".format(p2_f, tup[1]))\n",
    "    # p1_b = compute_prob_by_backward(tup[0], start_probability, trans_matrix, emission_matrix)\n",
    "    # p2_b = compute_prob_by_backward(tup[1], start_probability, trans_matrix, emission_matrix)\n",
    "    # print(\"  Backward |\")\n",
    "    # print(\"   {} | {}\".format(p1_b, tup[0]))\n",
    "    # print(\"   {} | {}\".format(p2_b, tup[1]))"
   ]
  },
  {
   "cell_type": "markdown",
   "id": "e994be6e",
   "metadata": {},
   "source": [
    "## 任务二：BPE算法用于英文分词"
   ]
  },
  {
   "cell_type": "markdown",
   "id": "c1cc4775",
   "metadata": {},
   "source": [
    "任务二评分标准：\n",
    "\n",
    "1. 共有7处TODO需要填写，每个TODO计1-2分，共9分，预计代码量50行；\n",
    "2. 允许自行修改、编写代码完成，对于该情况，请补充注释以便于评分，否则结果不正确将导致较多的扣分；\n",
    "3. 用于说明实验的文字和总结不额外计分，但不写会导致扣分。"
   ]
  },
  {
   "cell_type": "markdown",
   "id": "0fb5dbb9",
   "metadata": {},
   "source": [
    "构建空格分词器，将语料中的句子以空格切分成单词，然后将单词拆分成字母加`</w>`的形式。例如`apple`将变为`a p p l e </w>`。"
   ]
  },
  {
   "cell_type": "code",
   "execution_count": 11,
   "id": "70e10703",
   "metadata": {},
   "outputs": [],
   "source": [
    "import re\n",
    "import functools"
   ]
  },
  {
   "cell_type": "code",
   "execution_count": 12,
   "id": "d6c3667a",
   "metadata": {},
   "outputs": [],
   "source": [
    "_splitor_pattern = re.compile(r\"[^a-zA-Z']+|(?=')\")\n",
    "_digit_pattern = re.compile(r\"\\d+\")\n",
    "\n",
    "\n",
    "def white_space_tokenize(corpus):\n",
    "    \"\"\"\n",
    "    先正则化（字母转小写、数字转为N、除去标点符号），然后以空格分词语料中的句子，例如：\n",
    "    输入 corpus=[\"I am happy.\", \"I have 10 apples!\"]，\n",
    "    得到 [[\"i\", \"am\", \"happy\"], [\"i\", \"have\", \"N\", \"apples\"]]\n",
    "\n",
    "    Args:\n",
    "        corpus: List[str] - 待处理的语料\n",
    "\n",
    "    Return:\n",
    "        List[List[str]] - 二维List，内部的List由每个句子的单词str构成\n",
    "    \"\"\"\n",
    "\n",
    "    tokeneds = [list(filter(lambda tkn: len(tkn) > 0, _splitor_pattern.split(_digit_pattern.sub(\"N\", stc.lower())))) for stc in corpus]\n",
    "\n",
    "    return tokeneds"
   ]
  },
  {
   "cell_type": "markdown",
   "id": "3732502a",
   "metadata": {},
   "source": [
    "编写相应函数构建BPE算法需要用到的初始状态词典"
   ]
  },
  {
   "cell_type": "code",
   "execution_count": 13,
   "id": "7bf823e2",
   "metadata": {},
   "outputs": [],
   "source": [
    "def build_bpe_vocab(corpus):\n",
    "    \"\"\"\n",
    "    将语料进行white_space_tokenize处理后，将单词每个字母以空格隔开、结尾加上</w>后，构建带频数的字典，例如：\n",
    "    输入 corpus=[\"I am happy.\", \"I have 10 apples!\"]，\n",
    "    得到\n",
    "    {\n",
    "        'i </w>': 2,\n",
    "        'a m </w>': 1,\n",
    "        'h a p p y </w>': 1,\n",
    "        'h a v e </w>': 1,\n",
    "        'N </w>': 1,\n",
    "        'a p p l e s </w>': 1\n",
    "     }\n",
    "\n",
    "    Args:\n",
    "        corpus: List[str] - 待处理的语料\n",
    "\n",
    "    Return:\n",
    "        Dict[str, int] - \"单词分词状态->频数\"的词典\n",
    "    \"\"\"\n",
    "\n",
    "    tokenized_corpus = white_space_tokenize(corpus)\n",
    "\n",
    "    bpe_vocab = dict()\n",
    "\n",
    "    # TODO: 完成函数体（1分）\n",
    "    # 外层遍历句子列表, 内层遍历每句话中的每个单词\n",
    "    for sentence in tokenized_corpus:\n",
    "        for word in sentence:\n",
    "            # 添加的 key 的形式是 先把原有单词按字母空格分开, 然后末尾加上 \"</w>\"\n",
    "            # 添加末尾字符后, 检查是否在字典中存在, 不存在则添加, 存在则增加频数\n",
    "            _w = ' '.join(list(word)) + \" </w>\"\n",
    "            if _w not in bpe_vocab:\n",
    "                bpe_vocab[_w] = 1\n",
    "            else:\n",
    "                bpe_vocab[_w] += 1\n",
    "\n",
    "    return bpe_vocab"
   ]
  },
  {
   "cell_type": "markdown",
   "id": "6bb78fbd",
   "metadata": {},
   "source": [
    "**单元测试 1 -- 单词频数**\n",
    "\n",
    "测试输入为按单词分割好的句子们, 输出为单词级别的频数"
   ]
  },
  {
   "cell_type": "code",
   "execution_count": 14,
   "id": "aeff1589",
   "metadata": {},
   "outputs": [
    {
     "name": "stdout",
     "output_type": "stream",
     "text": [
      "Tokenized:\n",
      "0 | ['a', 'short', 'sentence']\n",
      "1 | ['long', 'senteces', 'and', 'a', 'short', 'sentences', 'and', 'a', 'long', 'sentence']\n",
      "Output:\n",
      "{'a </w>': 3, 's h o r t </w>': 2, 's e n t e n c e </w>': 2, 'l o n g </w>': 2, 's e n t e c e s </w>': 1, 'a n d </w>': 2, 's e n t e n c e s </w>': 1}\n"
     ]
    }
   ],
   "source": [
    "test_sentences = [\"A short sentence.\",\n",
    "                  \"Long senteces and a short sentences and a long sentence.\",\n",
    "                ]\n",
    "tokenized_senteces = white_space_tokenize(test_sentences)\n",
    "print(\"Tokenized:\")\n",
    "for i, sent in enumerate(tokenized_senteces):\n",
    "    print(\"{} | {}\".format(i, sent))\n",
    "print(\"Output:\")\n",
    "bpe_vocab = build_bpe_vocab(test_sentences)\n",
    "print(bpe_vocab)"
   ]
  },
  {
   "cell_type": "markdown",
   "id": "b1d25245",
   "metadata": {},
   "source": [
    "编写所需的其他函数\n",
    "\n",
    "将前面 `build_bpe_vocab` 划分的单词级别的字典, 转换成字母对级别的 (Bi-gram) 字典"
   ]
  },
  {
   "cell_type": "code",
   "execution_count": 15,
   "id": "087d11e2",
   "metadata": {},
   "outputs": [],
   "source": [
    "def get_bigram_freq(bpe_vocab):\n",
    "    \"\"\"\n",
    "    统计\"单词分词状态->频数\"的词典中，各bigram的频次（假设该词典中，各个unigram以空格间隔），例如：\n",
    "    输入 bpe_vocab=\n",
    "    {\n",
    "        'i </w>': 2,\n",
    "        'a m </w>': 1,\n",
    "        'h a p p y </w>': 1,\n",
    "        'h a v e </w>': 1,\n",
    "        'N </w>': 1,\n",
    "        'a p p l e s </w>': 1\n",
    "    }\n",
    "    得到\n",
    "    {\n",
    "        ('i', '</w>'): 2,\n",
    "        ('a', 'm'): 1,\n",
    "        ('m', '</w>'): 1,\n",
    "        ('h', 'a'): 2,\n",
    "        ('a', 'p'): 2,\n",
    "        ('p', 'p'): 2,\n",
    "        ('p', 'y'): 1,\n",
    "        ('y', '</w>'): 1,\n",
    "        ('a', 'v'): 1,\n",
    "        ('v', 'e'): 1,\n",
    "        ('e', '</w>'): 1,\n",
    "        ('N', '</w>'): 1,\n",
    "        ('p', 'l'): 1,\n",
    "        ('l', 'e'): 1,\n",
    "        ('e', 's'): 1,\n",
    "        ('s', '</w>'): 1\n",
    "    }\n",
    "\n",
    "    Args:\n",
    "        bpe_vocab: Dict[str, int] - \"单词分词状态->频数\"的词典\n",
    "\n",
    "    Return:\n",
    "        Dict[Tuple(str, str), int] - \"bigram->频数\"的词典\n",
    "    \"\"\"\n",
    "\n",
    "    bigram_freq = dict()\n",
    "\n",
    "    # TODO: 完成函数体（1分）\n",
    "    # 辅助函数, 向字典内添加指定数量的元素 (包括新建的时候)\n",
    "    def _add_into_dict(k, num):\n",
    "        # print(\"Adding {}, {}\".format(k, num))\n",
    "        if k not in bigram_freq:\n",
    "            bigram_freq[k] = num\n",
    "        else:\n",
    "            bigram_freq[k] += num\n",
    "    \n",
    "    # 遍历所有大\n",
    "    for word, frequency in bpe_vocab.items():\n",
    "        # 按空格分割单词, 最后一个字符也被分割出去, 计算的时候和倒数第二个合并在一起\n",
    "        word = word.split()\n",
    "        # 遍历每个单词的每个字符, 添加其和下一个字符组成的tuple\n",
    "        for i in range(len(word) - 1):\n",
    "            _add_into_dict((word[i], word[i + 1]), frequency)\n",
    "\n",
    "    return bigram_freq"
   ]
  },
  {
   "cell_type": "markdown",
   "id": "99be4082",
   "metadata": {},
   "source": [
    "**单元测试 2 -- 字母对频数**\n",
    "\n",
    "测试输入为单词级别的频数字典, 输出为字母对级别的频数字典"
   ]
  },
  {
   "cell_type": "code",
   "execution_count": 16,
   "id": "95eacb12",
   "metadata": {},
   "outputs": [
    {
     "name": "stdout",
     "output_type": "stream",
     "text": [
      "Input:\n",
      "{'a </w>': 3, 's h o r t </w>': 2, 's e n t e n c e </w>': 2, 'l o n g </w>': 2, 's e n t e c e s </w>': 1, 'a n d </w>': 2, 's e n t e n c e s </w>': 1}\n",
      "Bigram dict:\n",
      "{('a', '</w>'): 3, ('s', 'h'): 2, ('h', 'o'): 2, ('o', 'r'): 2, ('r', 't'): 2, ('t', '</w>'): 2, ('s', 'e'): 4, ('e', 'n'): 7, ('n', 't'): 4, ('t', 'e'): 4, ('n', 'c'): 3, ('c', 'e'): 4, ('e', '</w>'): 2, ('l', 'o'): 2, ('o', 'n'): 2, ('n', 'g'): 2, ('g', '</w>'): 2, ('e', 'c'): 1, ('e', 's'): 2, ('s', '</w>'): 2, ('a', 'n'): 2, ('n', 'd'): 2, ('d', '</w>'): 2}\n"
     ]
    }
   ],
   "source": [
    "print(\"Input:\")\n",
    "print(bpe_vocab)\n",
    "bigram_dict = get_bigram_freq(bpe_vocab)\n",
    "print(\"Bigram dict:\")\n",
    "print(bigram_dict)"
   ]
  },
  {
   "cell_type": "code",
   "execution_count": 17,
   "id": "ba426043",
   "metadata": {},
   "outputs": [],
   "source": [
    "def refresh_bpe_vocab_by_merging_bigram(bigram, old_bpe_vocab):\n",
    "    \"\"\"\n",
    "    在\"单词分词状态->频数\"的词典中，合并指定的bigram（即去掉对应的相邻unigram之间的空格），最后返回新的词典，例如：\n",
    "    输入 bigram=('i', '</w>')，old_bpe_vocab=\n",
    "    {\n",
    "        'i </w>': 2,\n",
    "        'a m </w>': 1,\n",
    "        'h a p p y </w>': 1,\n",
    "        'h a v e </w>': 1,\n",
    "        'N </w>': 1,\n",
    "        'a p p l e s </w>': 1\n",
    "    }\n",
    "    得到\n",
    "    {\n",
    "        'i</w>': 2,\n",
    "        'a m </w>': 1,\n",
    "        'h a p p y </w>': 1,\n",
    "        'h a v e </w>': 1,\n",
    "        'N </w>': 1,\n",
    "        'a p p l e s </w>': 1\n",
    "    }\n",
    "\n",
    "    Args:\n",
    "        old_bpe_vocab: Dict[str, int] - 初始\"单词分词状态->频数\"的词典\n",
    "\n",
    "    Return:\n",
    "        Dict[str, int] - 合并后的\"单词分词状态->频数\"的词典\n",
    "    \"\"\"\n",
    "\n",
    "    new_bpe_vocab = dict()\n",
    "\n",
    "    # TODO: 完成函数体（1分）\n",
    "    # 遍历原字典找到所有包含 bigram 的结构\n",
    "    for word, frequency in old_bpe_vocab.items():\n",
    "        # 查找 bigram 要先用空格合并起来, 因为替换之前还有空格\n",
    "        # 找到的话，把 用空格连接的字符 替换为不带空格的字符\n",
    "        # 然后作为新的 key 加入新字典 (原有 frequency)\n",
    "        search_str = ' '.join(bigram)\n",
    "        if search_str in word:\n",
    "            new_word = word.replace(' '.join(bigram), ''.join(bigram))\n",
    "            new_bpe_vocab[new_word] = frequency\n",
    "        else:\n",
    "            new_bpe_vocab[word] = frequency\n",
    "\n",
    "    return new_bpe_vocab"
   ]
  },
  {
   "cell_type": "markdown",
   "id": "d0d2b770",
   "metadata": {},
   "source": [
    "**单元测试 3 -- 合并字母**\n",
    "\n",
    "在 `build_bpe_vocab` 将句子按照单词级别分割后, 使用 `refresh_bpe_vocab_by_merging_bigram` 来消除其中指定字母之间的空格"
   ]
  },
  {
   "cell_type": "code",
   "execution_count": 18,
   "id": "2ba12f01",
   "metadata": {},
   "outputs": [
    {
     "name": "stdout",
     "output_type": "stream",
     "text": [
      "Word Level dict:\n",
      "{'a </w>': 3, 's h o r t </w>': 2, 's e n t e n c e </w>': 2, 'l o n g </w>': 2, 's e n t e c e s </w>': 1, 'a n d </w>': 2, 's e n t e n c e s </w>': 1}\n",
      "Merged dict:\n",
      "{'a</w>': 3, 's h o r t </w>': 2, 'sen t en c e </w>': 2, 'l o n g </w>': 2, 'sen t e c e s </w>': 1, 'a n d </w>': 2, 'sen t en c e s </w>': 1}\n"
     ]
    }
   ],
   "source": [
    "print(\"Word Level dict:\")\n",
    "print(bpe_vocab)\n",
    "_merge_bigram = refresh_bpe_vocab_by_merging_bigram(('a', '</w>'), bpe_vocab)\n",
    "_merge_bigram = refresh_bpe_vocab_by_merging_bigram(('e', 'n'), _merge_bigram)\n",
    "_merge_bigram = refresh_bpe_vocab_by_merging_bigram(('s', 'en'), _merge_bigram)\n",
    "print(\"Merged dict:\")\n",
    "print(_merge_bigram)"
   ]
  },
  {
   "cell_type": "code",
   "execution_count": 19,
   "id": "992438a1",
   "metadata": {},
   "outputs": [],
   "source": [
    "def get_bpe_tokens(bpe_vocab):\n",
    "    \"\"\"\n",
    "    根据\"单词分词状态->频数\"的词典，返回所得到的BPE分词列表，并将该列表按照分词长度降序排序返回，例如：\n",
    "    输入 bpe_vocab=\n",
    "    {\n",
    "        'i</w>': 2,\n",
    "        'a m </w>': 1,\n",
    "        'ha pp y </w>': 1,\n",
    "        'ha v e </w>': 1,\n",
    "        'N </w>': 1,\n",
    "        'a pp l e s </w>': 1\n",
    "    }\n",
    "    得到\n",
    "    [\n",
    "        ('i</w>', 2),\n",
    "        ('ha', 2),\n",
    "        ('pp', 2),\n",
    "        ('a', 2),\n",
    "        ('m', 1),\n",
    "        ('</w>', 5),\n",
    "        ('y', 1),\n",
    "        ('v', 1),\n",
    "        ('e', 2),\n",
    "        ('N', 1),\n",
    "        ('l', 1),\n",
    "        ('s', 1)\n",
    "     ]\n",
    "\n",
    "    Args:\n",
    "        bpe_vocab: Dict[str, int] - \"单词分词状态->频数\"的词典\n",
    "\n",
    "    Return:\n",
    "        List[Tuple(str, int)] - BPE分词和对应频数组成的List\n",
    "    \"\"\"\n",
    "\n",
    "    # TODO: 完成函数体（2分）\n",
    "    # 先用字典来计数 (因为字典 key 是哈希存储的 查找更快)\n",
    "    count_dict = dict()\n",
    "    # 遍历每个 key\n",
    "    # 再遍历 key 中所有空格分隔的字符 (可能若干字母组成)\n",
    "    for key, frequency in bpe_vocab.items():\n",
    "        for token in key.split():\n",
    "            if token not in count_dict:\n",
    "                count_dict[token] = frequency\n",
    "            else:\n",
    "                count_dict[token] += frequency\n",
    "\n",
    "    bpe_tokens = list(count_dict.items())\n",
    "    return bpe_tokens"
   ]
  },
  {
   "cell_type": "markdown",
   "id": "970b0953",
   "metadata": {},
   "source": [
    "**单元测试 4 -- BPE分词列表**\n",
    "\n",
    "输入一个（经过merge的）`bpe_vocab` 字典，按照其每个单词的分割方式，累加各部分merge字符的frequency"
   ]
  },
  {
   "cell_type": "code",
   "execution_count": 20,
   "id": "9198c1a8",
   "metadata": {},
   "outputs": [
    {
     "name": "stdout",
     "output_type": "stream",
     "text": [
      "Merged dict:\n",
      "{'a</w>': 3, 's h o r t </w>': 2, 'sen t en c e </w>': 2, 'l o n g </w>': 2, 'sen t e c e s </w>': 1, 'a n d </w>': 2, 'sen t en c e s </w>': 1}\n",
      "BPE tokens:\n",
      "[('a</w>', 3), ('s', 4), ('h', 2), ('o', 4), ('r', 2), ('t', 6), ('</w>', 10), ('sen', 4), ('en', 3), ('c', 4), ('e', 5), ('l', 2), ('n', 4), ('g', 2), ('a', 2), ('d', 2)]\n"
     ]
    }
   ],
   "source": [
    "print(\"Merged dict:\")\n",
    "print(_merge_bigram)\n",
    "bpe_tokens = get_bpe_tokens(_merge_bigram)\n",
    "print(\"BPE tokens:\")\n",
    "print(bpe_tokens)"
   ]
  },
  {
   "cell_type": "code",
   "execution_count": 21,
   "id": "3c56995e",
   "metadata": {},
   "outputs": [],
   "source": [
    "def print_bpe_tokenize(word, bpe_tokens):\n",
    "    \"\"\"\n",
    "    根据按长度降序的BPE分词列表，将所给单词进行BPE分词，最后打印结果。\n",
    "    \n",
    "    思想是，对于一个待BPE分词的单词，按照长度顺序从列表中寻找BPE分词进行子串匹配，\n",
    "    若成功匹配，则对该子串左右的剩余部分递归地进行下一轮匹配，直到剩余部分长度为0，\n",
    "    或者剩余部分无法匹配（该部分整体由\"<unknown>\"代替）\n",
    "    \n",
    "    例1：\n",
    "    输入 word=\"supermarket\", bpe_tokens=[\n",
    "        (\"su\", 20),\n",
    "        (\"are\", 10),\n",
    "        (\"per\", 30),\n",
    "    ]\n",
    "    最终打印 \"su per <unknown>\"\n",
    "\n",
    "    例2：\n",
    "    输入 word=\"shanghai\", bpe_tokens=[\n",
    "        (\"hai\", 1),\n",
    "        (\"sh\", 1),\n",
    "        (\"an\", 1),\n",
    "        (\"</w>\", 1),\n",
    "        (\"g\", 1)\n",
    "    ]\n",
    "    最终打印 \"sh an g hai </w>\"\n",
    "\n",
    "    Args:\n",
    "        word: str - 待分词的单词str\n",
    "        bpe_tokens: List[Tuple(str, int)] - BPE分词和对应频数组成的List\n",
    "    \"\"\"\n",
    "\n",
    "    # 将已有的BPEtoken按照从长到短的顺序排序\n",
    "    # 则后面的匹配中只要按顺序遍历, 就能实现最长匹配\n",
    "    sorted_bpe_tokens = sorted(bpe_tokens, key=lambda x: len(x[0]), reverse=True)\n",
    "    assert len(sorted_bpe_tokens[0]) >= len(sorted_bpe_tokens[-1]), \"BPE length order reversed...\"\n",
    "\n",
    "    # TODO: 请尝试使用递归函数定义该分词过程（2分）\n",
    "    def bpe_tokenize(sub_word):\n",
    "        if len(sub_word) == 0:\n",
    "            return \"\"\n",
    "        for token, freq in sorted_bpe_tokens:\n",
    "            if sub_word.startswith(token):\n",
    "                # 由于已经排过序, 只要先找到 sub_word 开头的字符串就是最长匹配\n",
    "                # 则直接把 sub_word 从这里截断, 递归匹配后面\n",
    "                return token + \" \" + bpe_tokenize(sub_word[len(token):])  \n",
    "        # 运行到这里说明遍历已有的 BPE token 都没匹配\n",
    "        return \"<unknown>\"\n",
    "\n",
    "    res = bpe_tokenize(word + \"</w>\")\n",
    "    print(res)"
   ]
  },
  {
   "cell_type": "markdown",
   "id": "60519cf0",
   "metadata": {},
   "source": [
    "**单元测试 5 -- 按BPE列表分词**\n",
    "\n",
    "按照已有的 BPE 分词列表，并按照最长匹配的规则，将一个输入句子用已有的分词进行分词，没有匹配的规则返回 `<unknown>`"
   ]
  },
  {
   "cell_type": "code",
   "execution_count": 22,
   "id": "6a3023e5",
   "metadata": {},
   "outputs": [
    {
     "name": "stdout",
     "output_type": "stream",
     "text": [
      "BPE tokens:\n",
      "[('a</w>', 3), ('s', 4), ('h', 2), ('o', 4), ('r', 2), ('t', 6), ('</w>', 10), ('sen', 4), ('en', 3), ('c', 4), ('e', 5), ('l', 2), ('n', 4), ('g', 2), ('a', 2), ('d', 2)]\n",
      "Input:\t sentehenfffen\n",
      "Output:\t sen t e h en <unknown>\n",
      "Input:\t senensenena\n",
      "Output:\t sen en sen en a</w> \n"
     ]
    }
   ],
   "source": [
    "print(\"BPE tokens:\")\n",
    "print(bpe_tokens)\n",
    "test_sentences = [\n",
    "    \"sentehenfffen\",\n",
    "    \"senensenena\"\n",
    "]\n",
    "for sentence in test_sentences:\n",
    "    print(\"Input:\\t\", sentence)\n",
    "    print(\"Output:\\t\", end=' ')\n",
    "    res = print_bpe_tokenize(sentence, bpe_tokens)"
   ]
  },
  {
   "cell_type": "markdown",
   "id": "ecd70402",
   "metadata": {},
   "source": [
    "开始读取数据集并训练BPE分词器"
   ]
  },
  {
   "cell_type": "code",
   "execution_count": 23,
   "id": "215b56d5",
   "metadata": {},
   "outputs": [
    {
     "name": "stdout",
     "output_type": "stream",
     "text": [
      "Loaded training corpus.\n"
     ]
    }
   ],
   "source": [
    "with open(\"data/news.2007.en.shuffled.deduped.train\", encoding=\"utf-8\") as f:\n",
    "    training_corpus = list(map(lambda l: l.strip(), f.readlines()[:1000]))\n",
    "\n",
    "print(\"Loaded training corpus.\")"
   ]
  },
  {
   "cell_type": "code",
   "execution_count": 24,
   "id": "40087bea",
   "metadata": {},
   "outputs": [],
   "source": [
    "# 这个代码块中的函数用来辅助画图\n",
    "import matplotlib.pyplot as plt\n",
    "\n",
    "def draw_iters(results):\n",
    "    fig, ax1 = plt.subplots()\n",
    "    c1 = 'royalblue'\n",
    "    c2 = 'maroon'\n",
    "\n",
    "    dict_lens = results['lens']\n",
    "    ax1.plot(dict_lens, c1)\n",
    "    ax1.set_xlabel('Iteration')\n",
    "    ax1.set_ylabel('Remain Can be Merged', color=c1)\n",
    "    ax1.tick_params('y', colors=c1)\n",
    "    # ax1.set_ylim(1.05*max(dict_lens), 0.95*min(dict_lens))\n",
    "\n",
    "    merge_freq = results['frequency']\n",
    "    ax2 = ax1.twinx()\n",
    "    ax2.plot(merge_freq, c2)\n",
    "    ax2.set_ylabel('Merging Frequency', color=c2)\n",
    "    ax2.tick_params('y', colors=c2)\n",
    "\n",
    "    fig.tight_layout()\n",
    "    # plt.savefig(\"./{}.png\".format(len(dict_lens)))\n",
    "    plt.show()"
   ]
  },
  {
   "cell_type": "code",
   "execution_count": 38,
   "id": "7bccd41d",
   "metadata": {},
   "outputs": [
    {
     "name": "stdout",
     "output_type": "stream",
     "text": [
      "Train 500 iters (Adopted Version):\n"
     ]
    },
    {
     "data": {
      "image/png": "[encoded data removed]",
      "text/plain": [
       "<Figure size 640x480 with 2 Axes>"
      ]
     },
     "metadata": {},
     "output_type": "display_data"
    }
   ],
   "source": [
    "training_iter_num = 5000    # 这是为了画图而训练了很长5000轮, 实际最终使用下面的 adopt_iter_num 轮\n",
    "\n",
    "training_bpe_vocab = build_bpe_vocab(training_corpus)\n",
    "\n",
    "# 用于记录结果和画图\n",
    "# 我是想看随着迭代的进行, 新产生的待合并字符对数量, 和被选择合并的字符对的频率\n",
    "results = {\n",
    "    'lens': [],\n",
    "    'frequency': []\n",
    "}\n",
    "\n",
    "adopt_iter_num = 500    # 最终采用这个训练轮数\n",
    "final_adopt_version = None  # 在到达这个轮数后, 把最终用来预测的结果存在这里\n",
    "\n",
    "for i in range(training_iter_num):\n",
    "    # TODO: 完成训练循环内的代码逻辑（2分）\n",
    "    # 每轮循环先根据 当前的划分和合并 更新bigram 的频率\n",
    "    bigram_frequency = get_bigram_freq(training_bpe_vocab)\n",
    "    # 当训练轮数足够多时, 没有可以再合并的\n",
    "    if len(bigram_frequency) == 0:\n",
    "        print(\"No bigram to merge.\")\n",
    "        break\n",
    "    if i == adopt_iter_num:\n",
    "        # 达到想要的 adopt_iter_num 轮后, 保存结果, 剩下的训练只是为了画图\n",
    "        final_adopt_version = training_bpe_vocab.copy()\n",
    "    # 然后在一轮更新中, 找频率最高的 bigram 对合并\n",
    "    max_bi_word, max_freq = max(bigram_frequency.items(), key=lambda item: item[1])\n",
    "    training_bpe_vocab = refresh_bpe_vocab_by_merging_bigram(max_bi_word, training_bpe_vocab)\n",
    "\n",
    "    # 记录待合并的字符对数量, 以及合并的字符对频率\n",
    "    results['lens'].append(len(bigram_frequency))\n",
    "    results['frequency'].append(max_freq)\n",
    "\n",
    "# training_bpe_tokens = get_bpe_tokens(training_bpe_vocab)\n",
    "training_bpe_tokens = get_bpe_tokens(final_adopt_version)\n",
    "print(\"Train {} iters (Adopted Version):\".format(adopt_iter_num))\n",
    "draw_iters({k: v[:400] for k, v in results.items()})"
   ]
  },
  {
   "cell_type": "markdown",
   "id": "78ea3ddd",
   "metadata": {},
   "source": [
    "测试BPE分词器的分词效果"
   ]
  },
  {
   "cell_type": "code",
   "execution_count": 39,
   "id": "c0cfdb29",
   "metadata": {},
   "outputs": [
    {
     "name": "stdout",
     "output_type": "stream",
     "text": [
      "训练轮数: 500\n",
      "naturallanguageprocessing 的分词结果为：\n",
      "n atur al lan gu age proce ssing</w> \n"
     ]
    }
   ],
   "source": [
    "test_word = \"naturallanguageprocessing\"\n",
    "\n",
    "print(\"训练轮数:\", adopt_iter_num)\n",
    "print(\"naturallanguageprocessing 的分词结果为：\")\n",
    "print_bpe_tokenize(test_word, training_bpe_tokens)"
   ]
  },
  {
   "cell_type": "markdown",
   "id": "977b6d7250854946",
   "metadata": {},
   "source": [
    "**TODO：实验总结**\n",
    "\n",
    "1. 更新轮数对分词结果的影响\n",
    "\n",
    "    在此测试了不同训练循环次数对分词结果的影响，如下表所示。可以看到，开始阶段，随着训练轮数的增加，分词结果从零散的单词字母，逐渐开始合并到有意义的词块。但随着训练轮数的进一步增加，出现了 “之前已经合并好的词块又被拆分开” 的情况，分词结果又开始有零散化的趋势。随着训练轮数继续增加，直到该训练数据上所能达到的最多可合并的轮数（约5500轮）时，分词结果已经几乎呈现和最开始少量训练一样的情况，最后训练到接近没有可合并的状态，分词功能已经几乎无法实现，甚至出现 `<unknown>` 。原因将在下一节分析，总之就是只有适中的训练轮数才能有较好的分词结果，过长或过短的训练都不行。\n",
    "\n",
    "    | 更新轮数 | 分词结果 |\n",
    "    | :-: | :-: |\n",
    "    | 100 | <span style=\"font-family: Consolas; font-weight: bold;\">n at u r al l an g u ag e pro c e s sing&lt;/w&gt;</span> |\n",
    "    | 200 | <span style=\"font-family: Consolas; font-weight: bold;\">n at ur al l an gu age pro c e s sing&lt;/w&gt;</span> |\n",
    "    | 300 | <span style=\"font-family: Consolas; font-weight: bold;\">n atur al lan gu age pro ce s sing&lt;/w&gt;</span> |\n",
    "    | 400 | <span style=\"font-family: Consolas; font-weight: bold; color: green;\">n atur al lan gu age pro ce ssing&lt;/w&gt;</span> |\n",
    "    | 500 | <span style=\"font-family: Consolas; font-weight: bold; color: green;\">n atur al lan gu age proce ssing&lt;/w&gt;</span>  |\n",
    "    | 600 | <span style=\"font-family: Consolas; font-weight: bold; color: green;\">n atur al lan gu age proce ssing&lt;/w&gt;</span> |\n",
    "    | 700 | <span style=\"font-family: Consolas; font-weight: bold;\">n atur al lan gu age proce ssi n g&lt;/w&gt;</span> |\n",
    "    | 800 | <span style=\"font-family: Consolas; font-weight: bold;\">n atur al lan gu age proce ssi n g&lt;/w&gt;</span> |\n",
    "    | 900 | <span style=\"font-family: Consolas; font-weight: bold;\">n atur al lan gu age proce ssi n g&lt;/w&gt;</span> |\n",
    "    | 1000| <span style=\"font-family: Consolas; font-weight: bold;\">n atur al langu age proce ssi n g&lt;/w&gt;</span> |\n",
    "    | 1500| <span style=\"font-family: Consolas; font-weight: bold;\">n at u ra l langu age proce ssi n g&lt;/w&gt;</span> |\n",
    "    | 2000| <span style=\"font-family: Consolas; font-weight: bold;\">n at u ra l langu age proce ssi n g&lt;/w&gt;</span> |\n",
    "    | 2500| <span style=\"font-family: Consolas; font-weight: bold;\">n at u ra l langu age proce ssi n g&lt;/w&gt;</span> |\n",
    "    | 3000| <span style=\"font-family: Consolas; font-weight: bold;\">n at u ra l langu age proce ssi n g&lt;/w&gt;</span> |\n",
    "    | 3500| <span style=\"font-family: Consolas; font-weight: bold;\">n at u r al langu ag e pro ce ss ing&lt;/w&gt;</span> |\n",
    "    | 4000| <span style=\"font-family: Consolas; font-weight: bold;\">n at u r al l an gu ag e pro ce ss in g&lt;/w&gt;</span> |\n",
    "    | 5000| <span style=\"font-family: Consolas; font-weight: bold; color: red;\">n a tu r al l an gu ag e p roc e &lt;unknown&gt;</span> |\n",
    "    | 6000| <span style=\"font-family: Consolas; font-weight: bold; color: red;\">&lt;unknown&gt;</span> |\n",
    "\n",
    "\n",
    "1. 训练轮数对 bigram 合并和更新的影响\n",
    "\n",
    "    下图绘制了随着训练轮数的增加，新产生的待合并字符对数量, 和被选择合并的字符对的频率的变化。其中蓝线表示当前可供选择合并的字符对数量，红线表示该轮选择的合并字符对在字典中的频率。\n",
    "\n",
    "    下图是训练 5000 轮（直到没有可供合并的字符对）的结果，可以看到最开始随着合并的进行，迅速产生更多的可合并对，但很快可供选择合并对就达到最大值，从 1000 轮左右开始，蓝线的斜率便接近 -1，也即基本等同于每轮训练减少一个合并对，而没有新增。红线反应的合并对的频率则单调递减，这很容易理解，在开始时的合并一定是更离散化的字符对，频率更高。\n",
    "    "
   ]
  },
  {
   "cell_type": "code",
   "execution_count": 40,
   "id": "8577afff",
   "metadata": {},
   "outputs": [
    {
     "name": "stdout",
     "output_type": "stream",
     "text": [
      "Train 5000 iters:\n"
     ]
    },
    {
     "data": {
      "image/png": "[encoded data removed]",
      "text/plain": [
       "<Figure size 640x480 with 2 Axes>"
      ]
     },
     "metadata": {},
     "output_type": "display_data"
    }
   ],
   "source": [
    "print(\"Train 5000 iters:\")\n",
    "draw_iters({k: v[:5000] for k, v in results.items()})"
   ]
  },
  {
   "cell_type": "markdown",
   "id": "a8fcf643",
   "metadata": {},
   "source": [
    "因此从上图可以理解训练轮数过多时英文分词结果变差，是因为随着选择合并的字符对频率越来越低，意味着这本身应该作为两个单独的字符存在，而不是具有普适性的合并态。如果强制训练多轮，将所有低频率的、特异性的字符组合也合并，则在最长匹配时就会匹配不到其中一个字符，只能匹配到还剩下的离散字符；等到训练轮数达到5000左右时，离散字符也都和频率极低的字符合并成频率更低的字符，该模型就出现了无法匹配文本 `<unknown>` 的情况。\n",
    "\n",
    "下面是绘制了 1000 轮训练的结果，更具体观察可合并字符对的变化。可以看到，在 200 轮训练之前，合并行为可以带来更多的收益，并且所选择合并字符对也具有极高的频率，意味着合并是合理的，因此这个阶段的训练是必要的。在200-400轮训练中，虽然合并字符对的频率已经指数降低了很多，但合并行为仍然带来了更多的合并选择，说明此阶段仍然学习到了新知识。在 400 轮训练之后，存在一段平滑期，随后在 700 轮以后，合并字符对的频率维持在较低水平，同时随着合并的进行，也没有更多的合并选择，**此后的训练逐渐开始合并本应独立存在的有意义的字符，**最终导致分词结果重新变得离散化，甚至出现 `<unknown>`.   "
   ]
  },
  {
   "cell_type": "code",
   "execution_count": 41,
   "id": "a53376b0",
   "metadata": {},
   "outputs": [
    {
     "name": "stdout",
     "output_type": "stream",
     "text": [
      "Train 1000 iters:\n"
     ]
    },
    {
     "data": {
      "image/png": "[encoded data removed]",
      "text/plain": [
       "<Figure size 640x480 with 2 Axes>"
      ]
     },
     "metadata": {},
     "output_type": "display_data"
    }
   ],
   "source": [
    "print(\"Train 1000 iters:\")\n",
    "draw_iters({k: v[:1000] for k, v in results.items()})"
   ]
  }
 ],
 "metadata": {
  "kernelspec": {
   "display_name": "Python 3 (ipykernel)",
   "language": "python",
   "name": "python3"
  },
  "language_info": {
   "codemirror_mode": {
    "name": "ipython",
    "version": 3
   },
   "file_extension": ".py",
   "mimetype": "text/x-python",
   "name": "python",
   "nbconvert_exporter": "python",
   "pygments_lexer": "ipython3",
   "version": "3.9.13"
  }
 },
 "nbformat": 4,
 "nbformat_minor": 5
}
